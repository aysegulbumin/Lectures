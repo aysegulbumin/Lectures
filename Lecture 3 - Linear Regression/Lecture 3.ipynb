{
 "cells": [
  {
   "cell_type": "markdown",
   "metadata": {},
   "source": [
    "# Lecture 3 - Linear Regression, Generalization & Regularization"
   ]
  },
  {
   "cell_type": "markdown",
   "metadata": {},
   "source": [
    "## Supervised Learning\n",
    "\n",
    "**Supervised Learning:** Learning a mapping from input data to desired output values given labeled training data.\n",
    "\n",
    "The typical workflow of a Supervised Learning algorithm is as follows:\n",
    "\n",
    "**Training Stage**\n",
    "1. Collect labeled training data - often the most time-consuming and expensive task.\n",
    "2. Extract features - extract *useful* features from the input (or observational) data such that they have discriminatory information in successfully mapping the desired output. \n",
    "3. Select a model - relationship between input data and desired output.\n",
    "4. Fit the model - change model parameters (*Learning Algorithm*) in order to meet some *Objective Function*.\n",
    "\n",
    "<div><img src=\"figures/SupervisedLearning.png\", width=\"800\"><!div>\n",
    "\n",
    "**Testing Stage**\n",
    "1. Given unlabeled test data\n",
    "2. Extract (the same) features\n",
    "3. Run the unabeled data through the trained model"
   ]
  },
  {
   "cell_type": "markdown",
   "metadata": {},
   "source": [
    "## Linear Regression\n",
    "\n",
    "**Linear Regression** is a form of *predictive modelling* approach to characterize the relationship between some collection of observational input data and a continuous desired response. \n",
    "\n",
    "* A linear regression model is a linear *weighted* combination of input values.\n",
    "\n",
    "* Regression is a type of **supervised** machine learning problem.\n",
    "\n",
    "Consider the example below:\n",
    "\n",
    "* The goal is to *train* a model that takes in the silhouette images with their correspondent labels (age of the person in the silhouette) and learn a linear weighted relationship between images and weight.\n",
    "\n",
    "<div><img src=\"figures/silhoutte_regression.png\", width=\"400\"><!div>\n",
    "\n",
    "* After the model is trained, the **goal** is to be able to *predict* the desired output value of any *new* unlabeld test data."
   ]
  },
  {
   "cell_type": "markdown",
   "metadata": {},
   "source": [
    "## Polynomial Curve Fitting\n",
    "\n",
    "<div class=\"alert alert-info\">\n",
    "    \n",
    "**Polynomial Regression** is a type of liner regression that uses a special set of *features* - polynomial features.\n",
    "</div>\n",
    "\n",
    "<div class=\"alert alert-success\">\n",
    "    <b>Step 1 - Input Space</b> \n",
    "\n",
    "Suppose we are given a training set comprising of $N$ observations of $\\mathbf{x}$, $\\mathbf{x} = \\left[x_1, x_2, \\ldots, x_N \\right]^T$, and its corresponding desired outputs $\\mathbf{t} = \\left[t_1, t_2, \\ldots, t_N\\right]^T$, where sample $x_i$ has the desired label $t_i$.\n",
    "\n",
    "So, we want to learn the *true* function mapping $f$ such that $\\mathbf{t}  = f(\\mathbf{x}, \\mathbf{w})$, where $\\mathbf{w}$ are parameters of the model.\n",
    "</div>\n",
    "\n",
    "* We generally organize data into *vectors* and *matrices*. Not only is it a common way to organize the data, but it allows us to easily apply linear algebraic operations during analysis. It also makes it much simpler when it comes to code implementation!\n",
    "    * In engineering textbooks and for this class, **vectors** are defined as *column vectors*. This is why we write $\\mathbf{x} = \\left[ \\begin{array}{c} x_1 \\\\ x_2 \\\\ \\vdots \\\\ x_N\\end{array} \\right] = \\left[x_1, x_2, \\ldots, x_N \\right]^T$.\n",
    "\n",
    "* Note that both the training data and desired outputs can be noisy."
   ]
  },
  {
   "cell_type": "markdown",
   "metadata": {},
   "source": [
    "### Linear Algebra Review\n",
    "\n",
    "Let us review some linear algebra: \n",
    "\n",
    "* What is a vector?\n",
    "$$\\mathbf{x} = \\left[ \\begin{array}{c} x_1 \\\\ x_2 \\\\ \\vdots \\\\ x_N\\end{array} \\right]$$\n",
    "\n",
    "* What is the transpose operation? \n",
    "$$\\mathbf{x}^T = \\left[  x_1,  x_2 , \\cdots , x_N \\right]$$\n",
    "\n",
    "* Vectors are often used to represent a data point (as a concatenation of all of the associated features for the data point)\n",
    "\n",
    "* Given a vector $\\mathbf{x} \\in \\mathbb{R}^N$ and a scalar value $a$, what is $a\\mathbf{x}$?  What does this operation do geometrically?\n",
    "\n",
    "* Given $\\mathbf{x} \\in \\mathbb{R}^N$ and $\\mathbf{y} \\in \\mathbb{R}^N$, what is $\\mathbf{x} + \\mathbf{y}$?  What is the geometric interpretation? \n",
    "\n",
    "* Given $\\mathbf{x} \\in \\mathbb{R}^N$ and $\\mathbf{y} \\in \\mathbb{R}^N$, what is $\\mathbf{x} - \\mathbf{y}$? What is the geometric interpretation? \n",
    "\n",
    "* An important operation is the *inner product*:\n",
    "$$\\mathbf{x}^T\\mathbf{y} = \\mathbf{y}^T\\mathbf{x} = \\sum_{i=1}^N x_iy_i$$\n",
    "\n",
    "* What is the *outer product*? \n",
    "$$\\mathbf{x}\\mathbf{y}^T = \\left[ \\begin{array}{c} x_1 \\\\ x_2 \\\\ \\vdots \\\\ x_N\\end{array} \\right] \\left[ \\begin{array}{c} y_1 \\\\ y_2 \\\\ \\vdots \\\\ y_N\\end{array} \\right]^T = \\left[\\begin{array}{cccc} x_1y_1 & x_1y_2 & \\cdots & x_1y_N \\\\ x_2y_1 & x_2y_2 & \\cdots & x_2y_N \\\\ \\vdots & \\vdots & \\ddots & \\vdots \\\\ x_Ny_1 & x_Ny_2 & \\cdots & x_Ny_N \\end{array} \\right]$$\n",
    "\n",
    "* What is the L-p norm of a vector $\\mathbf{z} = \\left[ z_1,  z_2 , \\cdots , z_N \\right]^T$?\n",
    "\n",
    "$$\\left\\Vert \\mathbf{z} \\right\\Vert_p = \\left(z_1^p + z_2^p + \\cdots + z_N^p\\right)^{\\frac{1}{p}}$$\n",
    "\n",
    "For example, the **squared** L2-norm of a vector $\\mathbf{z}$ is $\\left\\Vert \\mathbf{z} \\right\\Vert_p^2 = \\left(\\left(z_1^2 + z_2^2 + \\cdots + z_N^2\\right)^{\\frac{1}{2}}\\right)^2 = z_1^2 + z_2^2 + \\cdots + z_N^2 = \\mathbf{z}^T\\mathbf{z}$\n",
    "\n",
    "* Note the notation:  scalar values are unbolded (e.g., $N$, $x$), vectors are lower case and bolded (e.g., $\\mathbf{x}$), arrays/matrices are uppercase and bolded (e.g., $A \\in \\mathbb{R}^{d \\times N}$), vectors are generally assumed to be column vectors.\n",
    "\n",
    "<div class=\"alert alert-info\">\n",
    "\n",
    "Here is a quick video review of vectors: [Season 1 Episode 1 of 3Blue1Brown Series](https://www.youtube.com/watch?v=fNk_zzaMoSs&list=PLZHQObOWTQDPD3MizzM2xVFitgF8hE_ab)\n",
    "\n",
    "Here is a quick video review of matrix multiplication: [Season 1 Episode 4 of 3Blue1Brown Series](https://www.youtube.com/watch?v=XkY2DOUCWMU&list=PLZHQObOWTQDPD3MizzM2xVFitgF8hE_ab&index=4)\n",
    "</div>"
   ]
  },
  {
   "cell_type": "markdown",
   "metadata": {},
   "source": [
    "## Polynomial Curve Fitting cont.\n",
    "\n",
    "<div class=\"alert alert-success\">\n",
    "    <b>Step 2 - Feature Extraction</b> \n",
    "\n",
    "For the polynomial regression problem, let's consider *polynomial features* for each data point $x_i$. Let's say we can find these features using a **basis function**, $\\phi(\\mathbf{x})$. In the *polynomial regression* example, let's consider $\\phi(x_i) = \\left[\\begin{array}{ccccc} x_{i}^{0} & x_{i}^{1} & x_{i}^{2} & \\cdots & x_{i}^{M}\\end{array}\\right]^T$, where $x_i^M$ is the $M^{th}$-power of $x_i$.\n",
    "</div>\n",
    "\n",
    "* Other features can be extracted.\n",
    "\n",
    "* For all data observations $\\{x_i\\}_{i=1}^N$ and using the feature space defined as $\\phi(x_i) = \\left[\\begin{array}{ccccc} x_{i}^{0} & x_{i}^{1} & x_{i}^{2} & \\cdots & x_{i}^{M}\\end{array}\\right]^T$, we can write the input data in a *matrix* form as:\n",
    "\n",
    "$$\\mathbf{X} =\\left[\\begin{array}{c} \\phi(x_1)^T \\\\ \\phi(x_2)^T \\\\ \\vdots \\\\ \\phi(x_N)^T \\end{array}\\right]  = \\left[\\begin{array}{ccccc}\n",
    "1 & x_{1} & x_{1}^{2} & \\cdots & x_{1}^{M}\\\\\n",
    "1 & x_{2} & x_{2}^{2} & \\cdots & x_{2}^{M}\\\\\n",
    "\\vdots & \\vdots & \\vdots & \\ddots & \\vdots\\\\\n",
    "1 & x_{N} & x_{N}^{2} & \\cdots & x_{N}^{M}\n",
    "\\end{array}\\right] \\in \\mathbb{R}^{N\\times (M+1)}$$\n",
    "\n",
    "where each row is a feature representation of a data point $x_i$.\n",
    "\n",
    "<div class=\"alert alert-info\">\n",
    "    <b>Feature Space</b> \n",
    "\n",
    "The set of features drawn by the transformation \n",
    "\n",
    "\\begin{align}\n",
    "\\phi: \\mathbb{R}^D & \\rightarrow \\mathbb{R}^M \\\\\n",
    "\\mathbf{x} & \\rightarrow \\left[\\begin{array}{ccccc} x_{i}^{0} & x_{i}^{1} & x_{i}^{2} & \\cdots & x_{i}^{M}\\end{array}\\right]^T\n",
    "\\end{align}\n",
    "is often called the **feature space**.\n",
    "When we write a linear regression with respect to a set of basis functions, the regression model is linear in the *feature space*.\n",
    "\n",
    "$M$ is dimensionality of the feature space and is often called the *model order*.\n",
    "</div>\n",
    "\n",
    "* Now, we want to find the mapping from the feature input data $\\mathbf{X}$ to the desired output values $\\mathbf{t}$."
   ]
  },
  {
   "cell_type": "markdown",
   "metadata": {},
   "source": [
    "Suppose the data actually comes from some **unknown hidden function**, that takes in the data points $\\mathbf{x}$ with some parameters $\\mathbf{w}$ and produces the desired values $\\mathbf{t}$, i.e. $\\mathbf{t} = f(\\mathbf{x},\\mathbf{w})$.\n",
    "* We do not know anything about the function $f$. If we knew the hidden function, we would not need to learn the *mapping* - we would already know it. However, since we do not know the true underlying function, we need to do our best to estimate from the examples of input-output pairs that we have.\n",
    "\n",
    "<div class=\"alert alert-success\">\n",
    "    <b>Step 3 - Model Selection or Mapping</b> \n",
    "\n",
    "Let's assume that the desired output values are a *linear combination* of the feature input space, i.e., the **polynomial function**\n",
    "\n",
    "$$t \\sim y(x,\\mathbf{w}) = w_0x^0 + w_1x^1 + w_2x^2+\\cdots+w_Mx^M = \\sum_{j=0}^M w_jx^j$$\n",
    "</div>\n",
    "\n",
    "* This means that for every paired training data point $\\{x_i, t_i\\}_{i=1}^N$, we can model the output value as \n",
    "\n",
    "$$t_i \\sim y(x_i,\\mathbf{w}) = w_0x_i^0 + w_1x_i^1 + w_2x_i^2+\\cdots+w_Mx_i^M $$\n",
    "\n",
    "* Although the polynomial function $y(x,\\mathbf{w})$ is a nonlinear function of $x$, it is a linear function of the coefficients $\\mathbf{w}$. Functions, such as the polynomial, which are linear in the unknown parameters have important properties and are called *linear models*.\n"
   ]
  },
  {
   "cell_type": "markdown",
   "metadata": {},
   "source": [
    "The values of the coefficients $\\mathbf{w}$ will be determined by *fitting* the polynomial to the training data. \n",
    "\n",
    "This can be done by minimizing an **error function** (also defined as **cost function**, **objective function**, or **loss function**) that measures the *misfit* between the function $y(x,\\mathbf{w})$, for any given value of $\\mathbf{w}$, and the training set data points $\\{x_i,t_i\\}_{i=1}^N$.\n",
    "\n",
    "* What is the model's *objective* or goal?\n",
    "\n",
    "<div><img src=\"figures/LeastSquares.png\", width=\"300\"><!div>\n",
    "\n",
    "One simple choice for fitting the model is to consider the error function given by the sum of the squares of the errors between the predictions $y(x_i,\\mathbf{w})$ for each data point $x_i$ and the corresponding target values $t_i$, so that we minimize\n",
    "\n",
    "\\begin{align*} J(\\mathbf{w}) &= \\frac{1}{2} \\sum_{n=1}^N \\left(y(x_n,\\mathbf{w}) - t_n\\right)^2 \\\\\n",
    "&= \\frac{1}{2} \\sum_{n=1}^N \\left(\\sum_{j=0}^M w_jx_n^j -t_n \\right)^2\n",
    "\\end{align*}\n",
    "\n",
    "* This error function is minimizing the (Euclidean) *distance* of every point to the curve.\n",
    "\n",
    "* **What other/s objective function can we use?**\n",
    "\n",
    "* We can write the error function compactly in matrix/vector form:\n",
    "\\begin{align*}\n",
    "J(\\mathbf{w}) &= \\frac{1}{2}\\left\\Vert y(\\mathbf{x},\\mathbf{w}) - \\mathbf{t} \\right\\Vert^2_2 \\\\\n",
    "&= \\frac{1}{2} \\left\\Vert \\mathbf{X}\\mathbf{w} - \\mathbf{t}\\right\\Vert^2_2\\\\\n",
    "&= \\frac{1}{2} \\left(\\mathbf{X}\\mathbf{w} - \\mathbf{t}\\right)^T \\left(\\mathbf{X}\\mathbf{w} - \\mathbf{t}\\right)\\\\\n",
    "\\text{where: } & \\mathbf{X} = \\left[\\begin{array}{ccccc}\n",
    "1 & x_{1} & x_{1}^{2} & \\cdots & x_{1}^{M}\\\\\n",
    "1 & x_{2} & x_{2}^{2} & \\cdots & x_{2}^{M}\\\\\n",
    "\\vdots & \\vdots & \\vdots & \\ddots & \\vdots\\\\\n",
    "1 & x_{N} & x_{N}^{2} & \\cdots & x_{N}^{M}\n",
    "\\end{array}\\right], \\mathbf{w} =  \\left[\\begin{array}{c}\n",
    "w_{0}\\\\\n",
    "w_{1}\\\\\n",
    "\\vdots\\\\\n",
    "w_{M}\n",
    "\\end{array}\\right], \\text{and }  \\mathbf{t} = \\left[\\begin{array}{c}\n",
    "t_{1}\\\\\n",
    "t_{2}\\\\\n",
    "\\vdots\\\\\n",
    "t_{N}\n",
    "\\end{array}\\right]\n",
    "\\end{align*}\n",
    "\n",
    "<div class=\"alert alert-success\">\n",
    "    <b>Step 4 - Model Fitting</b> \n",
    "\n",
    "Also referred as training the model.\n",
    "\n",
    "We *fit* the polynomial function model such that the *objective function* $J(\\mathbf{w})$ is minimized, i.e. we *optimize* the following error function\n",
    "\n",
    "\\begin{align}\n",
    "J(\\mathbf{w}) &= \\frac{1}{2} \\left(\\mathbf{X}\\mathbf{w} - \\mathbf{t}\\right)^T \\left(\\mathbf{X}\\mathbf{w} - \\mathbf{t}\\right) \\\\\n",
    "&= \\frac{1}{2} \\left\\Vert \\mathbf{X}\\mathbf{w} - \\mathbf{t} \\right\\Vert_2^2\n",
    "\\end{align}\n",
    "\n",
    "* This function is called the **least squares error** objective function.\n",
    "\n",
    "The optimization function is then:\n",
    "$$\\arg_{\\mathbf{w}}\\min J(\\mathbf{w})$$ \n",
    "</div>\n",
    "\n",
    "* So, we want $J(\\mathbf{w})$ to be small. What is the set of parameters $\\mathbf{w}$ that minimize the objective function $J(\\mathbf{w})$?\n",
    "\n",
    "* What do you mean by **optimize** $J(\\mathbf{w})$? **How do you find $\\mathbf{w}$?**\n",
    "\n",
    "<!-- * To do that, we **take the derivative of $J(\\mathbf{w})$ with respect to the parameters $\\mathbf{w}$**.\n",
    "\n",
    "* How do you take the derivative of a *scalar*, such as $J(\\mathbf{w})$, with respect to a vector, such as $\\mathbf{w}$?\n",
    "\n",
    "    * What is the derivative of a scalar with respect to a vector? www.wooclap.com/RBLGOK --> "
   ]
  },
  {
   "cell_type": "markdown",
   "metadata": {},
   "source": [
    "* The derivative of the scalar $J(\\mathbf{w})$ with respect to the vector $\\mathbf{w}=[w_0,w_1,\\dots,w_M]^T$ is a **vector**, and it corresponds to take the derivative of $E(\\mathbf{w})$ with respect to every element in $\\mathbf{w}$:\n",
    "\n",
    "$$\\frac{\\partial J(\\mathbf{w})}{\\partial \\mathbf{w}} = \\left[ \\frac{\\partial J(\\mathbf{w})}{\\partial w_0},  \\frac{\\partial J(\\mathbf{w})}{\\partial w_1}, \\ldots,  \\frac{\\partial J(\\mathbf{w})}{\\partial w_M} \\right]^T$$\n",
    "\n",
    "* If we rewrite the objective function as:\n",
    "\\begin{align}\n",
    "J(\\mathbf{w}) &= \\frac{1}{2} \\left( \\mathbf{X}\\mathbf{w} - \\mathbf{t}\\right)^T\\left( \\mathbf{X}\\mathbf{w} - \\mathbf{t}\\right) \\\\\n",
    "& = \\frac{1}{2} \\left( \\mathbf{w}^T\\mathbf{X}^T - \\mathbf{t}^T\\right)\\left( \\mathbf{X}\\mathbf{w} - \\mathbf{t}\\right) \\\\\n",
    "& = \\frac{1}{2} \\left(\\mathbf{w}^T\\mathbf{X}^T\\mathbf{X}\\mathbf{w} - \\mathbf{w}^T\\mathbf{X}^T \\mathbf{t} - \\mathbf{t}^T\\mathbf{X}\\mathbf{w} + \\mathbf{t}^T\\mathbf{t}\\right)\n",
    "\\end{align}\n",
    "\n",
    "\n",
    "* Solving for $\\mathbf{w}$, we find:\n",
    "\n",
    "\\begin{align}\n",
    "\\frac{\\partial J(\\mathbf{w})}{\\partial \\mathbf{w}} &= 0 \\\\\n",
    "\\frac{\\partial }{\\partial \\mathbf{w}} \\left[\\frac{1}{2} \\left(\\mathbf{w}^T\\mathbf{X}^T\\mathbf{X}\\mathbf{w} - \\mathbf{w}^T\\mathbf{X}^T \\mathbf{t} - \\mathbf{t}^T\\mathbf{X}\\mathbf{w} + \\mathbf{t}^T\\mathbf{t}\\right) \\right] &= 0 \\\\\n",
    "\\frac{\\partial }{\\partial \\mathbf{w}} \\left[ \\left(\\mathbf{w}^T\\mathbf{X}^T\\mathbf{X}\\mathbf{w} - \\mathbf{w}^T\\mathbf{X}^T \\mathbf{t} - \\mathbf{t}^T\\mathbf{X}\\mathbf{w} + \\mathbf{t}^T\\mathbf{t}\\right) \\right] &= 0\\text{, apply product rule} \\\\\n",
    "(\\mathbf{X}^T\\mathbf{X}\\mathbf{w})^T + \\mathbf{w}^T\\mathbf{X}^T\\mathbf{X} - (\\mathbf{X}^T \\mathbf{t})^T - \\mathbf{t}^T\\mathbf{X} &=0 \\\\\n",
    "\\mathbf{w}^T\\mathbf{X}^T\\mathbf{X} + \\mathbf{w}^T\\mathbf{X}^T\\mathbf{X} - \\mathbf{t}^T\\mathbf{X} - \\mathbf{t}^T\\mathbf{X} &= 0\\\\\n",
    "2 \\mathbf{w}^T\\mathbf{X}^T\\mathbf{X} &= 2 \\mathbf{t}^T\\mathbf{X} \\\\\n",
    "(\\mathbf{w}^T\\mathbf{X}^T\\mathbf{X})^T &= (\\mathbf{t}^T\\mathbf{X})^T\\text{, apply transpose on both sides} \\\\\n",
    "\\mathbf{X}^T\\mathbf{X}\\mathbf{w} &= \\mathbf{X}^T\\mathbf{t} \\\\\n",
    "\\mathbf{w} &= \\left(\\mathbf{X}^T\\mathbf{X}\\right)^{-1}\\mathbf{X}^T\\mathbf{t}\n",
    "\\end{align}\n",
    "\n",
    "* This gives us the **optimal set of parameters** $\\mathbf{w}^*$ that minimize the objective function $J(\\mathbf{w})$ for the training data $\\{X,\\mathbf{t}\\}_{i=1}^N$, and so,\n",
    "\n",
    "$$\\mathbf{w}^* = \\left(\\mathbf{X}^T\\mathbf{X}\\right)^{-1}\\mathbf{X}^T\\mathbf{t}$$\n",
    "\n",
    "* So, for all pair of input data points $(x_i,t_i)$, we can write the estimated value of $t_i$ as:\n",
    "\n",
    "$$\\hat{t}_i = y_i = \\phi(x_i)\\mathbf{w}^*$$\n",
    "\n",
    "For all data points in matrix form $\\mathbf{X}$, we can write:\n",
    "\n",
    "$$\\hat{\\mathbf{t}} = \\mathbf{y} = X\\mathbf{w}$$\n",
    "\n",
    "<div class=\"alert alert-info\">\n",
    "\n",
    "Here is a quick video review of inverse matrices: [Season 1 Episode 7 of 3Blue1Brown Series](https://www.youtube.com/watch?v=uQhTuRlWMxw&list=PLZHQObOWTQDPD3MizzM2xVFitgF8hE_ab&index=8&t=33s)\n",
    "</div>"
   ]
  },
  {
   "cell_type": "markdown",
   "metadata": {},
   "source": [
    "**Test Data**\n",
    "\n",
    "After the model is trained (i.e. complete optimization of error function using the training labeled data), the **goal** is to *predict* the output values to *new*, unseen and unlabeled test data.\n",
    "\n",
    "The steps in the test data are:\n",
    "* Step 1: Extract (the same) features\n",
    "* Step 2: Run through the trained model using the optimal set of parameters $\\mathbf{w}^*$ to find the output value"
   ]
  },
  {
   "cell_type": "markdown",
   "metadata": {},
   "source": [
    "## Code Implementation\n",
    "\n",
    "**What can you control?** \n",
    "\n",
    "<!-- * Model order -->\n",
    "<!-- * Feature vectors or *basis functions* -->\n",
    "\n",
    "How would you implement linear regression using polynomial features?\n",
    " * Let's see with an example."
   ]
  },
  {
   "cell_type": "markdown",
   "metadata": {},
   "source": [
    "### Example: Suppose Input Data is sampled from a (noisy) sine curve \n",
    "\n",
    "Suppose our data comes from a noisy sinusoidal: $t = \\sin(2\\pi x) + \\epsilon$ where $\\epsilon$ is a (univariate) Gaussian zero-mean random noise. \n",
    "\n",
    "* The univariate Gaussian Distribution is defined as:\n",
    "\t\\begin{eqnarray}\n",
    "\t\t\\mathcal{N}(x | \\mu, \\sigma^2) = \\frac{1}{(2\\pi \\sigma^2)^{1/2}} \\exp\\left\\{ - \\frac{1}{2}\\left(\\frac{x - \\mu}{\\sigma}\\right)^2\\right\\}\n",
    "\t\\end{eqnarray}\n",
    "\n",
    "    where $\\mu$ is the mean and $\\sigma^2$ is the variance. "
   ]
  },
  {
   "cell_type": "code",
   "execution_count": 1,
   "metadata": {},
   "outputs": [],
   "source": [
    "import numpy as np\n",
    "import matplotlib.pyplot as plt\n",
    "%matplotlib inline\n",
    "plt.style.use('seaborn')"
   ]
  },
  {
   "cell_type": "code",
   "execution_count": null,
   "metadata": {},
   "outputs": [],
   "source": []
  },
  {
   "cell_type": "markdown",
   "metadata": {},
   "source": [
    "* If the noise is zero-mean Gaussian distributed, it is like we are saying there is a Gaussian around the true curve: \n",
    "\n",
    "\\begin{eqnarray}\n",
    "\t\t t = y + \\epsilon\\\\\n",
    "\t\t \\epsilon = t - y\n",
    "\t \\end{eqnarray}\n",
    "\t where\n",
    "\t \\begin{eqnarray}\n",
    "\t \t\\epsilon \\sim \\mathcal{N}(0, \\sigma^2)\n",
    " \t \\end{eqnarray}\n",
    " \t thus\n",
    " \t \\begin{eqnarray}\n",
    " \t \t\\mathcal{N}(t-y|0,1) &\\propto& \\exp\\left\\{ -\\frac{1}{2} \\frac{(t-y-0)^2}{1^2} \\right\\}\\\\\n",
    " \t \t&=& \\exp\\left\\{ -\\frac{1}{2} (t-y)^2 \\right\\}\\\\\n",
    " \t \t&=&  \\exp\\left\\{ -J(\\mathbf{w}) \\right\\}\n",
    " \t\\end{eqnarray}\n",
    "\n",
    "* The **least squares** objective function, $J(\\mathbf{w})$, assumes Gaussian noise. \n",
    "\n",
    "    * Another way to look at it: the desired values, $t$, are distributed according to a Gaussian distribution with mean $y$!\n",
    "\n",
    "Let's generate data from the *true* underlying function (which, in practice, we would not know)."
   ]
  },
  {
   "cell_type": "code",
   "execution_count": 2,
   "metadata": {},
   "outputs": [],
   "source": [
    "def NoisySinusoidalData(N, a, b, gVar):\n",
    "    '''NoisySinusoidalData(N, a, b, gVar): Generates N data points in the range [a,b] \n",
    "    sampled from a sin(2*pi*x) with additive zero-mean Gaussian random noise with standard deviation gVar'''\n",
    "    x = np.linspace(a,b,N) # N input samples, evenly spaced numbers between [a,b]\n",
    "    noise = np.random.normal(0,gVar,N) # draw N sampled from a univariate Gaussian distribution with mean 0, gVar standard deviation and N data points\n",
    "    t = np.sin(2*np.pi*x) + noise # desired values, noisy sinusoidal \n",
    "    return x, t"
   ]
  },
  {
   "cell_type": "code",
   "execution_count": 3,
   "metadata": {},
   "outputs": [],
   "source": [
    "# Generate input samples and desired values\n",
    "\n",
    "N = 40 # number of training data samples\n",
    "Ntest = 10 # number test data samples\n",
    "a, b = [0,1] # data samples interval\n",
    "gVar_train = 0.5 # standard deviation of the zero-mean Gaussian noise observed in the training samples\n",
    "gVar_test = 1 # standard deviation of the zero-mean Gaussian noise observed in the testing samples\n",
    "x1, t1 = NoisySinusoidalData(N, a, b, gVar_train) # Training Data - Noisy sinusoidal\n",
    "x2, t2 = NoisySinusoidalData(N, a, b, 0) # True Sinusoidal - in practice, we don't the true function\n",
    "x3, t3 = NoisySinusoidalData(Ntest, a, b, gVar_test) # Test Data - Noisy sinusoidal"
   ]
  },
  {
   "cell_type": "code",
   "execution_count": 4,
   "metadata": {},
   "outputs": [
    {
     "data": {
      "image/png": "[encoded data removed]",
      "text/plain": [
       "<Figure size 432x288 with 1 Axes>"
      ]
     },
     "metadata": {
      "needs_background": "light"
     },
     "output_type": "display_data"
    }
   ],
   "source": [
    "plt.plot(x1, t1, 'bo', label = 'Training Data')\n",
    "plt.plot(x2, t2, 'g', label = 'True Sinusoidal')\n",
    "plt.plot(x3, t3, 'ro', label = 'Test Data')\n",
    "plt.legend()\n",
    "plt.xlabel('Data Samples, x')\n",
    "plt.ylabel('Desired Values, t');"
   ]
  },
  {
   "cell_type": "markdown",
   "metadata": {},
   "source": [
    "Now let's fit the data using the *polynomial regression* model:"
   ]
  },
  {
   "cell_type": "code",
   "execution_count": null,
   "metadata": {},
   "outputs": [],
   "source": [
    "def PolynomialRegression(x,t,M):\n",
    "    '''PolynomialRegression(x,t,M): Fit a polynomial of order M to the data input data x and desire values t'''\t\n",
    "    # To be completed in class\n",
    "    return "
   ]
  },
  {
   "cell_type": "code",
   "execution_count": null,
   "metadata": {},
   "outputs": [],
   "source": [
    "# Model Order\n",
    "M = 13\n",
    "\n",
    "# Find the parameters that fit the noisy sinusoidal\n",
    "w, y, error = PolynomialRegression(x1,t1,M) \n",
    "\n",
    "plt.plot(x1,t1,'bo', label='Training Data')\n",
    "plt.plot(x1,y,'r', label = 'Estimated Polynomial')\n",
    "plt.plot(x2,t2,'g', label = 'True Function')\n",
    "plt.legend()\n",
    "plt.xlabel(\"Data Samples, x\")\n",
    "plt.ylabel(\"Desired Values, t\");"
   ]
  },
  {
   "cell_type": "markdown",
   "metadata": {},
   "source": [
    "* How do the weights look like? - Regularization"
   ]
  },
  {
   "cell_type": "code",
   "execution_count": null,
   "metadata": {},
   "outputs": [],
   "source": []
  },
  {
   "cell_type": "markdown",
   "metadata": {},
   "source": [
    "Let's see how well does this trained model **generalizes** to the **test data**, to which we do **not** have labels."
   ]
  },
  {
   "cell_type": "code",
   "execution_count": null,
   "metadata": {},
   "outputs": [],
   "source": [
    "# To be completed in class\n",
    "\n",
    "plt.plot(x1,t1,'bo', label='Training Data')\n",
    "plt.plot(x1,y,'r', label = 'Estimated Polynomial')\n",
    "plt.plot(x2,t2,'g', label = 'True Function')\n",
    "plt.plot(x3,t3,'ro', label = 'Test Data')\n",
    "plt.plot(x3,y_test,'k', label = 'Test Predictions')\n",
    "plt.legend()\n",
    "plt.xlabel(\"Data Samples, x\")\n",
    "plt.ylabel(\"Desired Values, t\");"
   ]
  },
  {
   "cell_type": "markdown",
   "metadata": {},
   "source": [
    "* What happens when the test points fall outside the range of what the model has *learned*?"
   ]
  },
  {
   "cell_type": "code",
   "execution_count": null,
   "metadata": {},
   "outputs": [],
   "source": [
    "x4, t4 = NoisySinusoidalData(10, 0.5, 1.5, 0.1)\n",
    "x2, t2 = NoisySinusoidalData(N, 0, 1.5, 0)\n",
    "\n",
    "plt.plot(x1, t1, 'bo', label = 'Training Data')\n",
    "plt.plot(x2, t2, 'g', label = 'True Sinusoidal')\n",
    "plt.plot(x4, t4, 'ro', label = 'Test Data')\n",
    "plt.legend()\n",
    "plt.xlabel('Data Samples, x')\n",
    "plt.ylabel('Desired Values, t');"
   ]
  },
  {
   "cell_type": "code",
   "execution_count": null,
   "metadata": {},
   "outputs": [],
   "source": [
    "# To be completed in class\n",
    "\n",
    "plt.plot(x1,t1,'bo', label='Training Data')\n",
    "plt.plot(x1,y,'r', label = 'Estimated Polynomial')\n",
    "plt.plot(x2,t2,'g', label = 'True Function')\n",
    "plt.plot(x3,t3,'ro', label = 'Test Data')\n",
    "plt.plot(x4,y_test,'k', label = 'Test Predictions')\n",
    "plt.legend()\n",
    "plt.xlabel(\"Data Samples, x\")\n",
    "plt.ylabel(\"Desired Values, t\")\n",
    "plt.show();"
   ]
  },
  {
   "cell_type": "markdown",
   "metadata": {},
   "source": [
    "* How do we select the *best* model order? - Cross-validation"
   ]
  },
  {
   "cell_type": "code",
   "execution_count": null,
   "metadata": {},
   "outputs": [],
   "source": [
    "# Find the Least Squares error for different model orders M\n",
    "\n",
    "J_train = []\n",
    "J_test = []\n",
    "for M in range(15):\n",
    "    w, y, error_training = PolynomialRegression(x1,t1,M)\n",
    "    X_test = np.array([x3**m for m in range(M+1)]).T\n",
    "    y_test = X_test@w  \n",
    "    error_Test = y_test - t3\n",
    "    J_train+=[np.sum(error_training**2)/2]\n",
    "    J_test+= [np.sum(error_Test**2)]\n",
    "\n",
    "plt.plot(J_train,'bo-', label = 'Training')\n",
    "plt.plot(J_test,'ro-', label = 'Test')\n",
    "plt.title('Cost Function')\n",
    "plt.legend()\n",
    "plt.xlabel('Model order, M')\n",
    "plt.ylabel('J(w)');"
   ]
  },
  {
   "cell_type": "markdown",
   "metadata": {},
   "source": [
    "## Using libraries\n",
    "\n",
    "We can also implement linear regression using the function ```LinearRegression``` from the module ```linear_model``` within the library ```sklearn```."
   ]
  },
  {
   "cell_type": "code",
   "execution_count": null,
   "metadata": {},
   "outputs": [],
   "source": [
    "from sklearn.linear_model import LinearRegression"
   ]
  },
  {
   "cell_type": "code",
   "execution_count": null,
   "metadata": {},
   "outputs": [],
   "source": [
    "model = LinearRegression().fit(x1[:,np.newaxis], t1)\n",
    "\n",
    "print(model.score(x1[:,np.newaxis], t1[:,np.newaxis]))\n",
    "print('The equation of the line is: y = ' + str(model.coef_[0]) + '*x + ' + str(model.intercept_))"
   ]
  },
  {
   "cell_type": "code",
   "execution_count": null,
   "metadata": {},
   "outputs": [],
   "source": [
    "yfit = model.predict(x1[:, np.newaxis])\n",
    "# yfit3 = model.predict(x3[:,np.newaxis])\n",
    "\n",
    "plt.plot(x1,t1, 'bo', label = 'Training Data')\n",
    "plt.plot(x1, yfit, 'r', label = 'Best-fit Line')\n",
    "# plt.plot(x3,t3, 'ro', label = 'Test Data')\n",
    "# plt.plot(x3, yfit3, 'k', label = 'Best-fit Line Test')\n",
    "plt.legend()\n",
    "plt.xlabel(\"Data Samples, x\")\n",
    "plt.ylabel(\"Desired Values, t\");"
   ]
  },
  {
   "cell_type": "code",
   "execution_count": null,
   "metadata": {},
   "outputs": [],
   "source": [
    "from sklearn.preprocessing import PolynomialFeatures\n",
    "\n",
    "M = 3\n",
    "poly = PolynomialFeatures(M, include_bias=True)\n",
    "poly.fit_transform(x1[:,np.newaxis]);"
   ]
  },
  {
   "cell_type": "code",
   "execution_count": null,
   "metadata": {},
   "outputs": [],
   "source": [
    "from sklearn.pipeline import make_pipeline\n",
    "\n",
    "M = 5\n",
    "poly_model = make_pipeline(PolynomialFeatures(M),LinearRegression())"
   ]
  },
  {
   "cell_type": "code",
   "execution_count": null,
   "metadata": {},
   "outputs": [],
   "source": [
    "poly_model.fit(x1[:, np.newaxis], t1)\n",
    "yfit = poly_model.predict(x1[:, np.newaxis])\n",
    "# yfit3 = poly_model.predict(x3[:,np.newaxis])\n",
    "\n",
    "plt.plot(x1,t1, 'bo', label = 'Training Data')\n",
    "plt.plot(x1, yfit, 'r', label = 'Estimated Polynomial')\n",
    "# plt.plot(x3,t3, 'ro', label = 'Test Data')\n",
    "# plt.plot(x3, yfit3, 'k', label = 'Test Predictions')\n",
    "plt.legend()\n",
    "plt.xlabel(\"Data Samples, x\")\n",
    "plt.ylabel(\"Desired Values, t\");"
   ]
  },
  {
   "cell_type": "code",
   "execution_count": null,
   "metadata": {},
   "outputs": [],
   "source": []
  }
 ],
 "metadata": {
  "kernelspec": {
   "display_name": "Python 3",
   "language": "python",
   "name": "python3"
  },
  "language_info": {
   "codemirror_mode": {
    "name": "ipython",
    "version": 3
   },
   "file_extension": ".py",
   "mimetype": "text/x-python",
   "name": "python",
   "nbconvert_exporter": "python",
   "pygments_lexer": "ipython3",
   "version": "3.7.3"
  },
  "latex_envs": {
   "LaTeX_envs_menu_present": true,
   "autoclose": true,
   "autocomplete": true,
   "bibliofile": "biblio.bib",
   "cite_by": "apalike",
   "current_citInitial": 1,
   "eqLabelWithNumbers": true,
   "eqNumInitial": 1,
   "hotkeys": {
    "equation": "Ctrl-E",
    "itemize": "Ctrl-I"
   },
   "labels_anchors": false,
   "latex_user_defs": false,
   "report_style_numbering": false,
   "user_envs_cfg": false
  }
 },
 "nbformat": 4,
 "nbformat_minor": 2
}
