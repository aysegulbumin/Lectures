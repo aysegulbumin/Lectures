{
 "cells": [
  {
   "cell_type": "markdown",
   "metadata": {},
   "source": [
    "# Lecture 27 - Project Presentation Draw, Final Exam Delivery & Final Exam Review"
   ]
  },
  {
   "cell_type": "markdown",
   "metadata": {},
   "source": [
    "# Project Presentations\n",
    "\n",
    "Each team will have **10 minutes to present their work + 5 minutes Q/A**.\n",
    "\n",
    "* During the Q/A time, every person in the classroom can ask questions. I will also consider these questions when grading the presentation portion of the project.\n",
    "\n",
    "Project presentations will happen **live on Zoom** on **Monday April 20** and **Wednesday April 22**.\n",
    "\n",
    "**Due Date:** Monday April 20 @ 10:40 AM (before class), along with all the other project parts (implementation and project report)."
   ]
  },
  {
   "cell_type": "markdown",
   "metadata": {},
   "source": [
    "## Grading Scheme:\n",
    "\n",
    "1. Time management. Do not go overtime.\n",
    "2. All team members must participate.\n",
    "3. Technical narrative. During your presentation use technical terms learned in class. I will grade based on how successful you are in delivering and answering questions about Machine Learning/Deep Learning concepts.\n",
    "4. Full picture. Everyone in the classroom should be able to have the big picture about your project pipeline. Leave the more technical and implementation details for the project and Q/A.\n",
    "5. Questions & Answers. How successful you are in answering questions and how well structured are the questions you ask to different project groups."
   ]
  },
  {
   "cell_type": "markdown",
   "metadata": {},
   "source": [
    "### Available Time Slots"
   ]
  },
  {
   "cell_type": "markdown",
   "metadata": {
    "cell_style": "split"
   },
   "source": [
    "**Monday, April 20**\n",
    "\n",
    "1. April 20, 10:35 AM - 10:50 AM\n",
    "\n",
    "2. April 20, 10:55 AM - 11:10 AM\n",
    "\n",
    "3. April 20, 11:15 AM - 11:30 AM\n",
    "\n",
    "4. April 20, 11:35 AM - 11:50 AM\n",
    "\n",
    "5. April 20, 11:55 AM - 12:10 PM\n",
    "\n",
    "6. April 20, 12:15 PM - 12:30 PM\n",
    "\n",
    "7. April 20, 12:35 PM - 12:50 PM"
   ]
  },
  {
   "cell_type": "markdown",
   "metadata": {
    "cell_style": "split"
   },
   "source": [
    "**Wednesday, April 22**\n",
    "\n",
    "8. April 22, 10:35 AM - 10:50 AM\n",
    "\n",
    "9. April 22, 10:55 AM - 11:10 AM\n",
    "\n",
    "10. April 22, 11:15 AM - 11:30 AM\n",
    "\n",
    "11. April 22, 11:35 AM - 11:50 AM\n",
    "\n",
    "12. April 22, 11:55 AM - 12:10 PM\n",
    "\n",
    "13. April 22, 12:15 PM - 12:30 PM\n",
    "\n",
    "14. April 22, 12:35 PM - 12:50 PM"
   ]
  },
  {
   "cell_type": "markdown",
   "metadata": {},
   "source": [
    "<h6 align=\"center\">5 minute break in between presentations - will allow for next group's setup</h6>\n",
    "\n",
    "<h6 align=\"center\">Note that the first time slot in both Monday and Wednesday starts at 10:35 AM and the last time slot ends at 12:50 PM - let me know if you have a conflict with this</h6>"
   ]
  },
  {
   "cell_type": "markdown",
   "metadata": {},
   "source": [
    "### Project Teams\n",
    "\n",
    "1. Unsupervised Children\n",
    "2. Machine_Learning\n",
    "3. Machine Earning\n",
    "4. Redstone\n",
    "5. Skynet\n",
    "6. HAL\n",
    "7. Machine Unlearning\n",
    "8. J.A.R.V.I.S.\n",
    "9. chd\n",
    "10. ML_Lab\n",
    "11. The Gamblers\n",
    "12. Feature Space\n",
    "13. Deus_ex_machina\n",
    "14. SingletonLearning"
   ]
  },
  {
   "cell_type": "code",
   "execution_count": null,
   "metadata": {},
   "outputs": [],
   "source": [
    "import numpy.random as npr\n",
    "\n",
    "teams = ['Unsupervised Children','Machine_Learning',\n",
    "         'Machine Earning','Redstone', 'Skynet', 'HAL', \n",
    "         'Machine Unlearning', 'J.A.R.V.I.S.','chd', \n",
    "         'ML_Lab', 'The Gamblers', 'Feature Space', \n",
    "         'Deus_ex_machina', 'SingletonLearning']\n",
    "\n",
    "Time_slots = ['April 20, 10:35 AM - 10:50 AM', 'April 20, 10:55 AM - 11:10 AM',\n",
    "              'April 20, 11:15 AM - 11:30 AM', 'April 20, 11:35 AM - 11:50 AM',\n",
    "              'April 20, 11:55 AM - 12:10 PM', 'April 20, 12:15 PM - 12:30 PM',\n",
    "              'April 20, 12:35 PM - 12:50 PM', 'April 22, 10:35 AM - 10:50 AM', \n",
    "              'April 22, 10:55 AM - 11:10 AM', 'April 22, 11:15 AM - 11:30 AM', \n",
    "              'April 22, 11:35 AM - 11:50 AM', 'April 22, 11:55 AM - 12:10 PM', \n",
    "              'April 22, 12:15 PM - 12:30 PM', 'April 22, 12:35 PM - 12:50 PM']"
   ]
  },
  {
   "cell_type": "code",
   "execution_count": null,
   "metadata": {},
   "outputs": [],
   "source": [
    "shuffle_teams = npr.permutation(teams)\n",
    "draw          = npr.permutation(Time_slots)\n",
    "\n",
    "for i in range(len(teams)):\n",
    "    print('{:21s}'.format(shuffle_teams[i]),' ----> ', draw[i])"
   ]
  },
  {
   "cell_type": "markdown",
   "metadata": {},
   "source": [
    "# Final Exam\n",
    "\n",
    "The final exam will take place as scheduled:\n",
    "\n",
    "<h3 align=\"center\">Wednesday, 4/29/2020 @ 3:00 PM - 5:00 PM</h3> "
   ]
  },
  {
   "cell_type": "markdown",
   "metadata": {},
   "source": [
    "### Delivery: Honorlock\n",
    "\n",
    "We will use Honorlock again for our final exam. I have taken in consideration your comments and made some changes for our final exam delivery:\n",
    "\n",
    "1. **You will be able to ask me questions during the exam**. I will provide a Zoom link for you to connect through your phone so you can ask questions during the exam. Camera will be on during the entire exam session, microphone will be muted. You will **raise hand** (Zoom feature) and I will open a breakout room (Zoom feature) so you can ask your question privately.\n",
    "\n",
    "2. **Handwritten answers.** For the final exam, there will be questions where you will handwrite your answers in scratch paper and submit a scanned copy. You will also scan your formula sheet.\n",
    "\n",
    "3. **Extra time for Exam setup.** I will provide an extra 15 minutes for exam setup (scanning ID, scanning room, etc.) and scanning handwritten work (using CamScanner app).\n",
    "\n",
    "4. **Save at least 10 minutes to scan your work.** You will need to submit your work within the 120 minutes + 15 minutes allotted time, otherwise the quiz will close and you will not be able to upload your work. You will scan you handwritten answers **and** formula sheet."
   ]
  },
  {
   "cell_type": "markdown",
   "metadata": {},
   "source": [
    "## Allowed Material for Final Exam\n",
    "\n",
    "* **1-page (front and back) formula sheet written with pen** - should **only** contain formulas and its labels. It should **not** contain definitions, pseudo-code or any solved problems. \n",
    "    * You must scan your formula sheet for final exam delivery.\n",
    "    \n",
    "* **Calculator**\n",
    "\n",
    "* **Writting paper**, preferably blank white paper. Bring enough writing paper and writing utensils.\n",
    "\n",
    "* **Scratch paper**. Clean scratch paper.\n",
    "\n",
    "* **1 electronic device (e.g. phone or tablet)**. Besides the computer/laptop where you will be taking the exam, you are allowed one other electronic device to connect with me via Zoom and to scan your work.\n",
    "    * You will need to **download the CamScanner app** on this device.\n",
    "    * You will need to **download the Zoom app** on this device.\n",
    "    * Will be positioned such that your handwork is clearly visible.\n",
    "    * You will send the scanned file to your email address.\n",
    "\n",
    "* **Additional browser tab**. After you scan your work with your device, you send it to your email address. You will be able to open 1 additional browser window to open your email address and download your answers file."
   ]
  },
  {
   "cell_type": "markdown",
   "metadata": {},
   "source": [
    "### Practice Quiz with Honorlock\n",
    "\n",
    "I have added a practice quiz with Honorlock, so you can practice for the final exam. \n",
    "\n",
    "You can try it multiple times: [Practice Final Exam Quiz](https://ufl.instructure.com/courses/395133/quizzes/818630) on Canvas.\n",
    "\n",
    "Let me know if there are any issues."
   ]
  },
  {
   "cell_type": "markdown",
   "metadata": {},
   "source": [
    "# Final Exam Review\n",
    "\n",
    "Final exam will be **cumulative** but questions will have a larger emphasis on the second half of the semester, in particular, letcures 14, 15, 17 through 27."
   ]
  },
  {
   "cell_type": "markdown",
   "metadata": {},
   "source": [
    "## Supervised Models\n",
    "\n",
    "* The Perceptron (L14, L15)\n",
    "* Artificial Neural Networks (ANN) (L14, L15)\n",
    "* Intro to Multi-layer Perceptron (MLP) (L14, L15)\n",
    "* Perceptron and ANN pseudo-code (L14, L19)\n",
    "* Analyzing and comparing decision surface performance between models (L18)"
   ]
  },
  {
   "cell_type": "markdown",
   "metadata": {},
   "source": [
    "## Typical Pipeline\n",
    "\n",
    "* Machine Learning pipeline (L21, L24)\n",
    "* Deep Learning pipeline (L21)"
   ]
  },
  {
   "cell_type": "markdown",
   "metadata": {},
   "source": [
    "## Neural Network Learning Algorithm\n",
    "\n",
    "* Backpropagation (L17, L18)\n",
    "* Accelerated learning with standard momentum or Nesterov's momentum (L18)\n",
    "* Adaptive learning rate (L18)"
   ]
  },
  {
   "cell_type": "markdown",
   "metadata": {},
   "source": [
    "## Practical Methodological Strategies\n",
    "\n",
    "* Stopping Criteria (L18, L24)\n",
    "* Bagging and Boosting (L18, L24)\n",
    "* Dropout (L18, L24)\n",
    "* Activation Functions (L18)\n",
    "* Adding more data (L18, L24)\n",
    "* Online vs Batch Learning (L18, L24)\n",
    "* Regularization (L18, L24)\n",
    "* Network architecture (L18, L24)\n",
    "* Data scaling (L18, L24)"
   ]
  },
  {
   "cell_type": "markdown",
   "metadata": {},
   "source": [
    "## Deep Learning\n",
    "\n",
    "* Convolutional Neural Network (L22)\n",
    "* Residual Neural Network (L21)\n",
    "* Generative Adversarial Network (L21)\n",
    "* Recurrent Neural Network (L21)"
   ]
  },
  {
   "cell_type": "markdown",
   "metadata": {},
   "source": [
    "## Data & Experiment Protocol\n",
    "\n",
    "* Data acquisition protocol (project work)\n",
    "* Experimental design (project work)\n",
    "* Comparative performances between models and experiments (project work)"
   ]
  },
  {
   "cell_type": "markdown",
   "metadata": {},
   "source": [
    "# Practice Questions\n",
    "\n",
    "Practice problems have been posted.\n",
    "\n",
    "You can find them in them here: https://github.com/MachineLearning-S20/Lectures/tree/master/Final%20Exam%20Review\n",
    "\n",
    "Solutions will be posted later."
   ]
  },
  {
   "cell_type": "markdown",
   "metadata": {},
   "source": [
    "## Suggested in-class problems\n",
    "\n",
    "From the practice set: problem 8, 10, 11 and 17."
   ]
  },
  {
   "cell_type": "markdown",
   "metadata": {},
   "source": [
    "# Course Evaluations\n",
    "\n",
    "Please fill in the course evaluations here: https://ufl.bluera.com/ufl/\n",
    "\n",
    "Your opinion and constructive criticism provides incredible insight for course development and the way I deliver the material. Please take a few minutes to leave your feedack. I appreciate your time!"
   ]
  },
  {
   "cell_type": "code",
   "execution_count": null,
   "metadata": {},
   "outputs": [],
   "source": []
  }
 ],
 "metadata": {
  "kernelspec": {
   "display_name": "Python 3",
   "language": "python",
   "name": "python3"
  },
  "language_info": {
   "codemirror_mode": {
    "name": "ipython",
    "version": 3
   },
   "file_extension": ".py",
   "mimetype": "text/x-python",
   "name": "python",
   "nbconvert_exporter": "python",
   "pygments_lexer": "ipython3",
   "version": "3.7.7"
  },
  "latex_envs": {
   "LaTeX_envs_menu_present": true,
   "autoclose": true,
   "autocomplete": true,
   "bibliofile": "biblio.bib",
   "cite_by": "apalike",
   "current_citInitial": 1,
   "eqLabelWithNumbers": true,
   "eqNumInitial": 1,
   "hotkeys": {
    "equation": "Ctrl-E",
    "itemize": "Ctrl-I"
   },
   "labels_anchors": false,
   "latex_user_defs": false,
   "report_style_numbering": false,
   "user_envs_cfg": false
  }
 },
 "nbformat": 4,
 "nbformat_minor": 4
}
