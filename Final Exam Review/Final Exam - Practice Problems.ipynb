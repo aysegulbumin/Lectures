{
 "cells": [
  {
   "cell_type": "markdown",
   "metadata": {},
   "source": [
    "# Final Exam - Practice Problems"
   ]
  },
  {
   "cell_type": "markdown",
   "metadata": {},
   "source": [
    "# Problem 1 - Backpropagation\n",
    "\n",
    "Use the figure below and the chain rule of derivatives to show how the weights $w_i$ can be trained through a sigmoid unit ($f(\\bullet)$ is a sigmoid) using the gradient of any smooth non-negative cost function $J=C(e)$.\n",
    "\n",
    "<div><img src=\"net.png\", width=\"700\"><!div>"
   ]
  },
  {
   "cell_type": "markdown",
   "metadata": {},
   "source": [
    "# Problem 2 - Neural Network\n",
    "\n",
    "Consider the following two-dimensional, two-class data set plotted in the figure below. Design a neural network that would obtain 100% classification accuracy on this data set. Be sure to define the network architecture and all parameters precisely (give exact numbers). Use a hard limit activation function as defined in the following equation:\n",
    "\n",
    "$$f(x) = \\begin{cases} 0 & \\text{if } x\\leq 0 \\\\ 1 & \\text{if } x>0 \\end{cases}$$\n",
    "\n",
    "Show and explain your work.\n",
    "\n",
    "<div><img src=\"data.png\", width=\"700\"><!div>"
   ]
  },
  {
   "cell_type": "markdown",
   "metadata": {},
   "source": [
    "# Problem 3 - Random Forests\n",
    "\n",
    "What is bootstrapping and how does it relate to random forest classifiers? Be precise (use pseudo-code)."
   ]
  },
  {
   "cell_type": "markdown",
   "metadata": {},
   "source": [
    "# Problem 4 - K-NN\n",
    "\n",
    "This question has two parts.\n",
    "\n",
    "1. Given the following training data set, what is the predicted class label of the test point $[2, 2]$ if you are using a K-NN classifier with squared Euclidean distance as the distance metric and $K = 3$?\n",
    "\n",
    "<div><img src=\"K-NN.png\", width=\"700\"><!div>\n",
    "\n",
    "2. What is the predicted class label of the test point $[100, 100]$ if you are using a K-NN classifier with squared Euclidean distance as the distance metric and $K=3$? Given the training data, would you trust this result? Why or why not?"
   ]
  },
  {
   "cell_type": "markdown",
   "metadata": {},
   "source": [
    "# Problem 5 - Feed-forward Neural Network\n",
    "\n",
    "Suppose you have the following network with all activation functions equal to the hard limit defined in the following equation:\n",
    "\n",
    "$$f(x) = \\begin{cases} 0 & \\text{if }x\\leq 0 \\\\ 1 & \\text{if } x>0  \\end{cases}$$\n",
    "\n",
    "Given a test point with the value of $[1, -2]$ what is the output of the network? Show your work.\n",
    "\n",
    "<div><img src=\"ANN.png\", width=\"700\"><!div>"
   ]
  },
  {
   "cell_type": "markdown",
   "metadata": {},
   "source": [
    "# Problem 6 - Gradient Descent\n",
    "\n",
    "Gradient descent is a general optimization approach where parameters of interest are iteratively updated. Does gradient descent ensure finding the global optima? Why or why not? What effect does the learning rate have on gradient descent?"
   ]
  },
  {
   "cell_type": "markdown",
   "metadata": {},
   "source": [
    "# Problem 7 - Online vs Batch Learning\n",
    "\n",
    "The following three questions are about online vs batch learning of MLPs.\n",
    "\n",
    "1. Briefly define Online learning and provide pseudo-code to describe how it can be implemented.\n",
    "\n",
    "2. Briefly define Batch learning and provide pseudo-code to describe how it can be implemented.\n",
    "\n",
    "3. Briefly compare and contrast online vs batch learning. What are their relative advantages/disadvantages? When would you use one over the other?\n",
    "\n",
    "4. Will any of these training approaches find the globally best parameter settings for a network? Why or why not?"
   ]
  },
  {
   "cell_type": "markdown",
   "metadata": {},
   "source": [
    "# Problem 8 - Model\n",
    "\n",
    "Suppose you have the following training data set and suppose you expect your training data set to be representative of your test data. Of all of the methods we can covered in the course, which would you use to classify this data into black x vs. red o. Why? Justify your answer.\n",
    "\n",
    "<div><img src=\"model.png\", width=\"400\"><!div>"
   ]
  },
  {
   "cell_type": "markdown",
   "metadata": {},
   "source": [
    "# Problem 9 - Neural Network\n",
    "\n",
    "Consider the following two-dimensional data set and desired values for a two-class classification problem:\n",
    "\n",
    "|  $x_1$  |  $x_2$  |    d    |\n",
    "|---------|---------|---------|\n",
    "|    0    |    0    |    0    |\n",
    "|  -0.01  |   0.01  |    0    |\n",
    "|   0.05  |   0.05  |    0    |\n",
    "|    0    |    1    |    1    |\n",
    "|  -0.01  |   1.05  |    1    |\n",
    "|   0.01  |   0.99  |    1    |\n",
    "|    1    |    0    |    1    |\n",
    "|   1.05  |  -0.06  |    1    |\n",
    "|   1.01  |   0.04  |    1    |\n",
    "|    1    |    1    |    0    |\n",
    "|   1.01  |   1.02  |    0    |\n",
    "|   0.98  |   0.99  |    0    |\n",
    "\n",
    "Define a neural network structure and associated parameter values that can solve this classification problem (with zero error on this data set)."
   ]
  },
  {
   "cell_type": "markdown",
   "metadata": {},
   "source": [
    "# Problem 10 - Regularization in Neural Networks\n",
    "\n",
    "Assume you have a network with a single output neuron. Assume you would like to use gradient descent to minimize the objective function and you want to attempt to prevent overtraining through **weight decay regularization** (L2-norm). Derive the gradient descent update equation for a weight at the output layer neuron by minimizing the following objective function:\n",
    "\n",
    "$$J = \\frac{1}{2} \\sum_{i=1}^N e_i^2 + \\lambda R(w)$$\n",
    "\n",
    "where $e_i$ is the error given the current network parameters and the desired output, $d_i$, for data point $x_i$, and $R(w)$ is the weight decay term. Keep your result general and applicable for any activation function, $\\phi(\\bullet)$. Clearly define any notation you use."
   ]
  },
  {
   "cell_type": "markdown",
   "metadata": {},
   "source": [
    "# Problem 11 - Unknown Class\n",
    "\n",
    "Suppose you trained an MLP using standard backpropagation on a training set that contained two classes. Suppose, you designed your MLP to have a single output neuron and you trained the MLP to map the input data to the class labels -1 or 1. During test, data from a third class was put through your trained network for classification. Is it possible for the MLP you trained to be able to identify and correctly classify data from the third class? Why or Why not? What strategies can you employ during training to guard against this situation?"
   ]
  },
  {
   "cell_type": "markdown",
   "metadata": {},
   "source": [
    "# Problem 12 - Deep Learning\n",
    "\n",
    "What is the difference between Deep Learning and Machine Learning? When would you use or the other?"
   ]
  },
  {
   "cell_type": "markdown",
   "metadata": {},
   "source": [
    "# Problem 13 - Convolutional Neural Networks\n",
    "\n",
    "1. How are convolutional neural networks different from MLPs? \n",
    "\n",
    "2. Why are they a class of deep learning models? \n",
    "\n",
    "3. Discuss advantages and disavantages of training a CNN for data classification."
   ]
  },
  {
   "cell_type": "markdown",
   "metadata": {},
   "source": [
    "# Problem 14 - Pipeline\n",
    "\n",
    "Suppose you are interested in performing classification of a data set with $M$ classes.\n",
    "\n",
    "1. Describe the standard pipeline approach of a Machine Learning algorithm. List all steps and its function.\n",
    "\n",
    "2. Describe the standard pipeline approach of a Deep Learning algorithm. List all steps and its function."
   ]
  },
  {
   "cell_type": "markdown",
   "metadata": {},
   "source": [
    "# Problem 15 - Avoiding Overfitting\n",
    "\n",
    "What are some strategies that we can use to avoid overfitting while training a neural network. Provide a brief description for all items listed."
   ]
  },
  {
   "cell_type": "markdown",
   "metadata": {},
   "source": [
    "# Problem 16 - Accerated Learning & Adaptive Learning\n",
    "\n",
    "What are some strategies that we can use to accelerate the learning process in a neural network? Provide a brief description for all items listed."
   ]
  },
  {
   "cell_type": "markdown",
   "metadata": {},
   "source": [
    "# Problem 17 - Take your pick\n",
    "\n",
    "Suppose a group of friends are going to train a neural network for the first time to perform classification, and they ask you (the ML expert) which network architecture they should use in order to avoid overfitting. Would you recommend them to use a single hidden layer network with a large number of units in the hidden layer, or would you recommend them to use a network with several layers (e.g., ten layers)? Why?"
   ]
  },
  {
   "cell_type": "code",
   "execution_count": null,
   "metadata": {},
   "outputs": [],
   "source": []
  }
 ],
 "metadata": {
  "kernelspec": {
   "display_name": "Python 3",
   "language": "python",
   "name": "python3"
  },
  "language_info": {
   "codemirror_mode": {
    "name": "ipython",
    "version": 3
   },
   "file_extension": ".py",
   "mimetype": "text/x-python",
   "name": "python",
   "nbconvert_exporter": "python",
   "pygments_lexer": "ipython3",
   "version": "3.7.7"
  },
  "latex_envs": {
   "LaTeX_envs_menu_present": true,
   "autoclose": true,
   "autocomplete": true,
   "bibliofile": "biblio.bib",
   "cite_by": "apalike",
   "current_citInitial": 1,
   "eqLabelWithNumbers": true,
   "eqNumInitial": 1,
   "hotkeys": {
    "equation": "Ctrl-E",
    "itemize": "Ctrl-I"
   },
   "labels_anchors": false,
   "latex_user_defs": false,
   "report_style_numbering": false,
   "user_envs_cfg": false
  }
 },
 "nbformat": 4,
 "nbformat_minor": 2
}
