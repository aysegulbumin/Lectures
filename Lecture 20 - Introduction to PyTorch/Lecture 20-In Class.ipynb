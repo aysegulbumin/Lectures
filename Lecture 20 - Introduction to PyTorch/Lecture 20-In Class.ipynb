{
 "cells": [
  {
   "cell_type": "markdown",
   "metadata": {
    "slideshow": {
     "slide_type": "slide"
    }
   },
   "source": [
    "# Lecture 20 - Introduction to PyTorch"
   ]
  },
  {
   "cell_type": "markdown",
   "metadata": {
    "slideshow": {
     "slide_type": "subslide"
    }
   },
   "source": [
    "![Pytorch](data:image/png;base64,iVBORw0KGgoAAAANSUhEUgAAAfcAAABkCAMAAACsLolMAAAAyVBMVEX///8lJSXuTCwAAAAhISEcHBwVFRXy8vIRERE/Pz+bm5uhoaHn5+eIiIgYGBhlZWUxMTHZ2dmSkpIrKyt+fn6srKzT09P5+fkLCwvuRyXtQBjk5OTHx8e3t7djY2NWVlb4u7Rvb2/tPRE5OTm+vr5OTk784NtFRUWMjIynp6d4eHhubm5aWlrtRCDvVzrwX0T719H0koL5ycH97er2qJv1npDtOADzg3D3sKXxblfzi3v98O71mor4ua/608zyeGPxclzwZEz5xb8IGFZeAAAQLElEQVR4nO2dCXfavBKG7Uhe2JcANnuBEAKBJM3StF/S9rb//0ddrJF3azGGxEn9nnPP/Qq2YvxY0sxoNFaUQoUK5Uytca1Ufu+LkNPD3/e+gs8iY4qQrdsfg/vD7st7X8JnkVHCqqqaH4L7w9n8y3tfw2fRB+L+cNYffHnvi/gs+jjc99jPCu7H0ofh/nDTP8vGfTxpRDTbdNrri6pxeJujbbRNsSYbK8OvOJI+CvdLB3s27hWkRVWv6yZCzUa5dyCKcbxNofRVwV1WgD0jd1NNFtZMtGoPD2lzbDPa5AgvC+6SothPxJ3AMHHnAPIF91PKxX5C7nvpaiV1mwX3E8rDfvbtV4ZmKHfTdmWapq7hABB7Uk3Z5hjVk6RBg5qdJFQquMvIxz5/9D607u4eUrYD3M8rXVfrSvlqs9SQ6bHXFynB9zadJG1Ii9qkm6hxygs/hfLPPYD91fvw7nYwOHtK1xDlHvHaLKNXXqI6Ba810/b4RFVJe/rVMdo6jXLPPYD9q/fhQ78f7v4ySuZO1Nogd2g+yuRb1Qn32hGaOpHyzj0Ru/I0gM9e0jTF4b4nv6QWmn0MWAX3jLo8S8KuPMOn31JN8VzuilJDAB61Dr9cVwX3bApgfw1+/t8OPjxef9/rCnq8tj30an0V3DOJhV359c35cPecqjURd6VRP1aHL7hn0WWfgV1RHr8NdvPbVN1dzN04x0cywwvuGcTBvv/y8fVLyvaE3JUyRHbqKRuOq+B+uALYUzrqDIm5D6lld9ASTVAF94PlYx+IsL/KmfVi7sqWePF25oBaKu7VUbdcbpcr3Z44EWAYeCSt4ejignOONbyolNtOw6P4QYncjd7oYtTKkI6QXQ9n0ti/zuX8eAnubXIIvRsGiN+olXiQNHfrorNAyDZN3TRthFa1HvPQVvdqq6G1+8/RBu9P3J/T7IwSQk3VdUMj7ULD6mwdDkTGuBtj50rQ/li0SGzxTWTdymMfnPVvZdqU4H5BXDntmvyjgYhG3EZL5JjzyKeS3KtXGqoHFoZUrKPSOvkCq3Vb11Sbch/5oWVcR4tKhFPv2rY1NdiwZqPJOHBUhHurE7iSfYuld1pDeN6lwL4/Ssajk+DeMwMefI8EcuozXps98qDY68jHUtyNmq2rMWG7mXjPq00CCv5SDYWpotCPak3CX1NpQZoh7q0ZilwJRpP3GO5/zl3sohD8V4jYyiRYy3AnnQgv4V/k1uBz3kpNh5xgHjLOXzQZ+QD7e57wJwPcrW1k1V9rBI8sm0nUoeWp23KAu9X2xo6A9EVm6za1HqR7OwRwnBiOeIqX4a4HuVeSO3NAxsK5e/VN9HMJ7jXbG1Y1nWQD+CN+/Tw+uQS4T6MPjBlIGDEmyOeskWQAP8cAq+6v97m3Su5ThB35D1PzzXu8O8oPvgoP/U5XaHb/CQ+VH+cn8K8q/GvKPh7SbVDMGBNyt67dm72fna+vuuOLcXmzrLuZANi+iDXpcZ8B9v2Mre3/53TuQITRWLgjtmbXV41Np7O53i7c2d4fGDzuXZ18tZ/T9cVquizVPcNAb0Sv4cS6o51491vi4P/cZ+RSdKS8XedO6TNw69hx24ZzAF7FPhdxtya0y9b1je+JWcPyio4COGZOetzXYHbo191hdTgclSd120/gMZqa23BjPHQ/Nobdmeq07HuowF0vV5Dz/9rekxgNDWvvngzHE3ckQrGH77T6TW35Gxm/3PoDR/eFpp2MH0d4eVbuCPHxDbXoKEsl4r6h2NF1ZBK1uucw12I98g3l3oVBKHjisO3/nZVGx4tN9GE1ukuENe8s4K4uNEK9EXLcRvThwQvW9Z9El7S7D35KHX7njvSiDp8+bmOBZbdgnQJxXTNuhQm4g+GgYjPBcq826LJg5Ka73J0hBkciSx40dwpoJjmf1njht0m5k2doGp2nhgv4Mj6BnVKvMHL3f0geT0f6ncgGFHOvnsPP9XoFgGWNd9YSB2eFYENc7j3anc6TJ5AagDfDZwN3PMUOdkZMYQwmXX3JcEEM/zyPOzYT7Fbwa9R6J7md08idsO8lj7+EDt+/ERwn5t6lXc37gFp2DAMHHPykwA6f+xQsKY1lN3TMyONHmiTcVczphhZY49pKwhB3udcXiVfRAesw+wqVvH6B797/I30Gzb7Z3fEPE3KHYT30lF8TRNG5loo47zgpK5rLnebccwKBE9LdXLeCNtl0B2bEiqVdkR+IsUxqKOWuLxlpZzQV4ShZpnJ6gv4++C59xv1AKsYj5N42Y7MaWHbJy1awXJ/4HY+7tSJ33Oas8hvQcUMJIB53PRYtcI+grKSscOCuTVmBeLhIQZD6qHITKYV+mS9qEPyPf5SI+wWMbbgU+Ixadok7GaHf2kldgsf9gjxKeMFb+oAJJzS9utwxZp1Y5k5KEVH/nblDCAKR2VcmpWV9SzvMewP9DX8VScB9RMNa4WccxoDEGXWiMW8zjzvx+VXU5V4rGNRa4Ae53NndGQ6QTB4Qrb/DQ51k851IlzC978ShOl8/qWXHHyL43Ls0WhFJqxzGe17om2QMHO5VMOqa/GeUjiWBR5ByZ2d9hmONIom4j2z2BHcS/aWT9ZcU5/yi5/B3z/G4t6Y0qo3tyPfQPbX4WWQkYAzXHO4whOtt7qUqFhlmg4F/yp2d9FnTo48KTyLusFIhuswj6rsUw7AeYIwY8KucsblfbL2Fy5glA9OxHRuWYeY3k28Mh/umzsdHRULEwYAZcOfM3mCg24J2XYm4t7Q35v64kxmzI5rLjBGUe7iDGqP1te1Rx3EfCZbc4osz4LzbybMpmztY84nOX0h0pcA3GoE7O4JWVdMM8/njTqN1acx5jzvf9aPcy5VyuXxV62xmk+mijlBgtVozE2Zr8IpjHZQYvKzbzOYOkaD4ym1UYD2Y/uhDuTPHiZGZyhDLHfevJ+au6qaz71131qWDm9+du1BK6k1Dclo0qd4Aq5zh57C5tzgBgZBgpcB/DkXc45YgV7nj/nTicZ4pXbtKHnyJv4Yj8wMxz5grNmzuFI/YL15FuIi4w1Ki9F6f3HGndp0o6BrSC3Cf8yP6PO6arTLL24yTHDaycsdccGNzLyfPGnGRCHHdb0HEfQMDkGyOTO64fxnI2OZh3dH+zn9WWNyxZtenFXYkmlp218HPhjBcsyiwudNuKQ6u1Bz7IWAHiLjTcJCwXarccafLMsJV1aCoz3/Gz9Og3HGgfJ1u2khdzdb87geecWiNgjjv7BgKm/tVvK1kkQck8LCJuG8/OPeXb1LB9pCoLShYiAXueHtN60Zezzq1yrhVFe4RaEEWTiCWbZEhIO7Uuzoad39t/7NzV9wkqxSbXW/gURGk41Vkp9aYyD0NrteQZTrMTjg9wjhP/MRAfFhynJfd6JI/7jR9JsUETxMvRCu3FfYSi0CxtNlNBEpUQrtO7G4Ruy7gPYq4Qw6o9IJ5/rhTw07UewOioR5Rgt3h3A1yz33OBsRI2C0J/Tj+apyjVWQmEXGnE4jsr8sfd7oQK+/BWzShVrRJ7nDuNO3IdgdR4rxrS/bxbO4Q3pW4n7D+LR+vkw4MgPLH3UubEu+EAD3Kpdtk4Q6rU17vWzo3hbePRhSnFSdH0PVfH7MwTstcME5UDrnfgycnG7p5oYbgTpRtn4E7kHZ7OHHeufvm2NwNSGDCovgK6b44sM9WxH0I7TYF7XrXkT/uCt0DLZlITTdViYeHLNxh1Zya4cQm5+6T5azDUvtLZNgR8zwYIBBxpyk6srU68sj9L+3wwl2Rjmiuzdlccp/UYdwhh5Ka1ySZmbsCwuG+hvFYsCBnhCcWRYI7ZMTJksojd7fDy/hyl3T5Tnpf5IF7QCBdguSTg/Me3xQXEC/PCrI3EzbZBLWO7cQRcocJHmNuu55yyd3dGCnOunlwq+AMxAGLTNx7/s4Z4lnb3Fr1vLxKCKyZ/GJpZHgJeQxC7pYKCTdyK/C55O5WMxBumvEKG84lojyZuIM/7eRZGJCJx51HedzpZibuRAzRndBmaCF36sGrdakluXxyt/xqxLzNkfc715aXr3NyKHeYl5EB/yFwxHjc6U4V3rZ6SPUI2+Zi7uD6qXWpBPp8cndDrw74Z2ag/onaf6nqGh3KHfLXzArkLwryWrj7pOguPJt5T62S5k0qfpNC7tQGUaVe+ppT7p4Tv+/L/eQu/+vWfTb6/RR1zA7e2zsju+Ga4LyX+MdyuVtLyOhjbp2YkLMj8UAJ7lWaYCARBc4td7+00b7L3/6MWm3W/Y9538Oepm7hwdzpvoQp/36BBPugaSkSlGgbGg26TS9s8Utwp6Uw2D3e8DHmlrtXucYhO+h/vX/x2L/cv9541PeWnWQgPyN3mqAOk7MgOiKoe9CmxW3QLG6D9VZ64mggw13Z0sJUdiPhAo2y5hfeyi935cvOY7sf7efzP8+vT49Pr89/dvNd4Itb2ZcPZOXu52kJs9RFdU6uaVO6ug6PZNUaTetG0XOluFteeRvtKjxcWL2aZmJ/CTHH3JW7mwBfZzzfOer3gx8O2GZfVFm5V71E+3i1qeihorpGWwoe280rt7CRZVxsNHcKiJdGk+G+tz7dizTNxrplGJZlGUar2ymRGnX+zJ9n7srL8yAEOaZdX36XfGbutAiCeFOjTB2ziVc0Tkfn202n1pktsVc/MNbbZbnvD/NqEGomUlfL6bKEkU1r4/l5W7nmrih/bwds6v3B7zRZ9pm5jygr8YsJUtUtdMsLYh9YgsEnyV0xtn7dQidsqwVKEaqaFxLIOXfl5fGG0ef78x+yFXBAmbnTHeaqLrz5MnVKx4vkvG6MlkmXKMtdUcpaQtlR0rJ9/jHGeaKX7z/muyj6/mD3nPadoRXk1OHMwr0iLGBJJVeX+AqbOMpGs5vr5K3V0tyV4czWYw3vWz5v++6DHHfGdt83knX59GMwH+wtOqLdYH72+3vat4QqSne13KuU4a1B4MJL5DJVoYS5KPml2l4hM1A9dj8jT7usrVcaaVLu6lu1BQq++hbXbbQNtWw0kfOqWibXFvyC937jpfVy//j1948/t3/+9/z6/S7dC4W8RogyXAVsoGAWmAmo6ryMoCpeIbF67ck5ghcI2ItZhYOVvN9Aur6UMWpv3YYRXnbGkTOtsaMu8+9Zsr/gTZQNW+a/robTao8kw3m9h/N+j2P/Ntpwr3r0lv8tQS0C+02LdxZ6f22jtUcK/Qui1affrrRXoVyIbnHKialT6K20EBSUKvQpBVHat6zYWigPglWZt6zMXSgHquL3D1wWentRq+7tX6pW6D0FlU3YFW0KfU6tC6vuXxR0d+ldxoU+iejrByQS0wt9IvXoywLe+zoKvamqK24V4kKfR8bWX24dLuG9XpxCRoU+ibrIXrZ7w6pRbbXP6VaGDBlahT6ItpqKTaQ2S0335dzo7d6xU+i9ZLivGfKyz81r8VmFPrq67nYWV/a2yFH7B7SyQwnoGM0K7P+Chlcq8vYeaEgtPLh/Rr32CvYOmJNx0dn/LVVbvVaRT1eokIz+DwTRNphnDsEpAAAAAElFTkSuQmCC)"
   ]
  },
  {
   "cell_type": "markdown",
   "metadata": {
    "slideshow": {
     "slide_type": "subslide"
    }
   },
   "source": [
    "# What is PyTorch?\n",
    "\n",
    "PyTorch was first released in October 2016.\n",
    "\n",
    "PyTorch is a library for Python that facilitates building deep learning projects. It emphasizes flexibility and allows deep learning models to be expressed in idiomatic Python."
   ]
  },
  {
   "cell_type": "markdown",
   "metadata": {
    "slideshow": {
     "slide_type": "subslide"
    }
   },
   "source": [
    "PyTorch provides a core data structure, the ```Tensor```, a multi-dimensional array that shares many similarities with ```Numpy``` arrays."
   ]
  },
  {
   "cell_type": "markdown",
   "metadata": {
    "slideshow": {
     "slide_type": "slide"
    }
   },
   "source": [
    "## Installing PyTorch\n",
    "\n",
    "PyTorch is available as a Python package and you can either use ```pip```, or ```conda```, to build it or you can build it from source. The recommended approach for this book is to use the Anaconda Python 3 distribution. \n",
    "\n",
    "In the [PyTorch homepage](https://pytorch.org/) scroll to \"quick start locally\" to copy the command you should run using ```conda``` to install PyTorch in your machine. "
   ]
  },
  {
   "cell_type": "markdown",
   "metadata": {
    "slideshow": {
     "slide_type": "slide"
    }
   },
   "source": [
    "## Tensor: the basic unit in PyTorch\n",
    "\n",
    "A **tensor** is a multi-dimensional array.\n",
    "\n",
    "<div><img src=\"figures/tensor.png\", width=\"500\"><!div>"
   ]
  },
  {
   "cell_type": "markdown",
   "metadata": {
    "slideshow": {
     "slide_type": "subslide"
    }
   },
   "source": [
    "```PyTorch``` is not the only library dealing with multi-dimensional arrays. ```NumPy``` is by far the most popular multidimensional array library. In fact, ```PyTorch``` features seamless interoperability with ```NumPy```, which brings with it first class integration with the rest of the scientific libraries in Python, such as ```SciPy```, ```Scikit-learn```, and\n",
    "```Pandas```."
   ]
  },
  {
   "cell_type": "markdown",
   "metadata": {
    "slideshow": {
     "slide_type": "subslide"
    }
   },
   "source": [
    "Compared to ```NumPy``` arrays, ```PyTorch``` tensors have a few superpowers, such as the ability to perform very fast operations on Graphical Processing Units (GPUs), to distribute operations on multiple devices or machines, or to keep track of the graph of computations that created them. These are all important features when implementing a modern deep learning library."
   ]
  },
  {
   "cell_type": "code",
   "execution_count": 1,
   "metadata": {
    "slideshow": {
     "slide_type": "subslide"
    }
   },
   "outputs": [],
   "source": [
    "import torch"
   ]
  },
  {
   "cell_type": "code",
   "execution_count": 3,
   "metadata": {
    "slideshow": {
     "slide_type": "subslide"
    }
   },
   "outputs": [
    {
     "data": {
      "text/plain": [
       "tensor([1., 1., 1.])"
      ]
     },
     "execution_count": 3,
     "metadata": {},
     "output_type": "execute_result"
    }
   ],
   "source": [
    "a = torch.ones(3)\n",
    "a"
   ]
  },
  {
   "cell_type": "code",
   "execution_count": 4,
   "metadata": {
    "slideshow": {
     "slide_type": "subslide"
    }
   },
   "outputs": [
    {
     "data": {
      "text/plain": [
       "tensor(1.)"
      ]
     },
     "execution_count": 4,
     "metadata": {},
     "output_type": "execute_result"
    }
   ],
   "source": [
    "a[1]"
   ]
  },
  {
   "cell_type": "code",
   "execution_count": 5,
   "metadata": {
    "slideshow": {
     "slide_type": "subslide"
    }
   },
   "outputs": [
    {
     "data": {
      "text/plain": [
       "1.0"
      ]
     },
     "execution_count": 5,
     "metadata": {},
     "output_type": "execute_result"
    }
   ],
   "source": [
    "float(a[1])"
   ]
  },
  {
   "cell_type": "code",
   "execution_count": 6,
   "metadata": {
    "slideshow": {
     "slide_type": "subslide"
    }
   },
   "outputs": [
    {
     "data": {
      "text/plain": [
       "tensor([1., 1., 2.])"
      ]
     },
     "execution_count": 6,
     "metadata": {},
     "output_type": "execute_result"
    }
   ],
   "source": [
    "a[2] = 2.0\n",
    "a"
   ]
  },
  {
   "cell_type": "markdown",
   "metadata": {
    "slideshow": {
     "slide_type": "subslide"
    }
   },
   "source": [
    "Python lists or tuples of numbers are collections of Python objects that are individually allocated in memory. \n",
    "\n",
    "PyTorch tensors or NumPy arrays on the other hand are viewed over (typically) contiguous memory blocks containing unboxed numeric types rather than Python objects.\n",
    "\n",
    "<div><img src=\"figures/tensorObject.png\", width=\"500\"><!div>"
   ]
  },
  {
   "cell_type": "markdown",
   "metadata": {
    "slideshow": {
     "slide_type": "subslide"
    }
   },
   "source": [
    "For example, let's create samples that form the 2-Dtriangle connecting the vertices (4, 1), (5, 3) and (2, 1)."
   ]
  },
  {
   "cell_type": "code",
   "execution_count": 7,
   "metadata": {
    "slideshow": {
     "slide_type": "subslide"
    }
   },
   "outputs": [
    {
     "data": {
      "text/plain": [
       "tensor([4., 1., 5., 3., 2., 1.])"
      ]
     },
     "execution_count": 7,
     "metadata": {},
     "output_type": "execute_result"
    }
   ],
   "source": [
    "points = torch.tensor([4.0,1.0,5.0,3.0,2.0,1.0])\n",
    "points"
   ]
  },
  {
   "cell_type": "code",
   "execution_count": 8,
   "metadata": {
    "slideshow": {
     "slide_type": "subslide"
    }
   },
   "outputs": [
    {
     "data": {
      "text/plain": [
       "tensor([[4., 1.],\n",
       "        [5., 3.],\n",
       "        [2., 1.]])"
      ]
     },
     "execution_count": 8,
     "metadata": {},
     "output_type": "execute_result"
    }
   ],
   "source": [
    "points = torch.tensor([[4.0,1.0],[5.0,3.0],[2.0,1.0]])\n",
    "points"
   ]
  },
  {
   "cell_type": "code",
   "execution_count": 9,
   "metadata": {
    "slideshow": {
     "slide_type": "subslide"
    }
   },
   "outputs": [
    {
     "data": {
      "text/plain": [
       "torch.Size([3, 2])"
      ]
     },
     "execution_count": 9,
     "metadata": {},
     "output_type": "execute_result"
    }
   ],
   "source": [
    "points.shape"
   ]
  },
  {
   "cell_type": "markdown",
   "metadata": {
    "slideshow": {
     "slide_type": "slide"
    }
   },
   "source": [
    "### Indexing Tensors"
   ]
  },
  {
   "cell_type": "code",
   "execution_count": 10,
   "metadata": {
    "slideshow": {
     "slide_type": "subslide"
    }
   },
   "outputs": [
    {
     "data": {
      "text/plain": [
       "tensor([4., 1.])"
      ]
     },
     "execution_count": 10,
     "metadata": {},
     "output_type": "execute_result"
    }
   ],
   "source": [
    "points[0]"
   ]
  },
  {
   "cell_type": "code",
   "execution_count": 11,
   "metadata": {
    "slideshow": {
     "slide_type": "subslide"
    }
   },
   "outputs": [
    {
     "data": {
      "text/plain": [
       "tensor([4., 5., 2.])"
      ]
     },
     "execution_count": 11,
     "metadata": {},
     "output_type": "execute_result"
    }
   ],
   "source": [
    "points[:,0]"
   ]
  },
  {
   "cell_type": "code",
   "execution_count": 12,
   "metadata": {
    "slideshow": {
     "slide_type": "subslide"
    }
   },
   "outputs": [
    {
     "data": {
      "text/plain": [
       "tensor(1.)"
      ]
     },
     "execution_count": 12,
     "metadata": {},
     "output_type": "execute_result"
    }
   ],
   "source": [
    "points[0,1]"
   ]
  },
  {
   "cell_type": "code",
   "execution_count": 13,
   "metadata": {
    "slideshow": {
     "slide_type": "subslide"
    }
   },
   "outputs": [
    {
     "data": {
      "text/plain": [
       "tensor([1., 3., 1.])"
      ]
     },
     "execution_count": 13,
     "metadata": {},
     "output_type": "execute_result"
    }
   ],
   "source": [
    "points[:,-1]"
   ]
  },
  {
   "cell_type": "markdown",
   "metadata": {
    "slideshow": {
     "slide_type": "subslide"
    }
   },
   "source": [
    "Let's consider how we would handle a tensor that is representing an image:"
   ]
  },
  {
   "cell_type": "code",
   "execution_count": 14,
   "metadata": {
    "slideshow": {
     "slide_type": "subslide"
    }
   },
   "outputs": [],
   "source": [
    "img = torch.randn(3,5,5) \n",
    "weights = torch.tensor([0.2125,0.7154, 0.0721])"
   ]
  },
  {
   "cell_type": "code",
   "execution_count": 15,
   "metadata": {
    "slideshow": {
     "slide_type": "subslide"
    }
   },
   "outputs": [
    {
     "data": {
      "text/plain": [
       "torch.Size([100, 3, 5, 5])"
      ]
     },
     "execution_count": 15,
     "metadata": {},
     "output_type": "execute_result"
    }
   ],
   "source": [
    "batch = torch.randn(100,3,5,5)\n",
    "batch.shape"
   ]
  },
  {
   "cell_type": "code",
   "execution_count": 16,
   "metadata": {
    "slideshow": {
     "slide_type": "subslide"
    }
   },
   "outputs": [
    {
     "data": {
      "text/plain": [
       "(torch.Size([5, 5]), torch.Size([100, 5, 5]))"
      ]
     },
     "execution_count": 16,
     "metadata": {},
     "output_type": "execute_result"
    }
   ],
   "source": [
    "img_gray_naive = img.mean(-3)\n",
    "batch_gray_naive = batch.mean(-3)\n",
    "img_gray_naive.shape, batch_gray_naive.shape"
   ]
  },
  {
   "cell_type": "code",
   "execution_count": 17,
   "metadata": {
    "slideshow": {
     "slide_type": "subslide"
    }
   },
   "outputs": [
    {
     "data": {
      "text/plain": [
       "(tensor([0.2125, 0.7154, 0.0721]), torch.Size([3]))"
      ]
     },
     "execution_count": 17,
     "metadata": {},
     "output_type": "execute_result"
    }
   ],
   "source": [
    "unsqueezed_weights = weights\n",
    "unsqueezed_weights, unsqueezed_weights.shape"
   ]
  },
  {
   "cell_type": "code",
   "execution_count": 18,
   "metadata": {
    "slideshow": {
     "slide_type": "subslide"
    }
   },
   "outputs": [
    {
     "data": {
      "text/plain": [
       "(tensor([[0.2125],\n",
       "         [0.7154],\n",
       "         [0.0721]]), torch.Size([3, 1]))"
      ]
     },
     "execution_count": 18,
     "metadata": {},
     "output_type": "execute_result"
    }
   ],
   "source": [
    "unsqueezed_weights = weights.unsqueeze(-1)\n",
    "unsqueezed_weights, unsqueezed_weights.shape"
   ]
  },
  {
   "cell_type": "code",
   "execution_count": 19,
   "metadata": {
    "slideshow": {
     "slide_type": "subslide"
    }
   },
   "outputs": [
    {
     "data": {
      "text/plain": [
       "(tensor([[[0.2125]],\n",
       " \n",
       "         [[0.7154]],\n",
       " \n",
       "         [[0.0721]]]), torch.Size([3, 1, 1]))"
      ]
     },
     "execution_count": 19,
     "metadata": {},
     "output_type": "execute_result"
    }
   ],
   "source": [
    "unsqueezed_weights = weights.unsqueeze(-1).unsqueeze_(-1)\n",
    "unsqueezed_weights, unsqueezed_weights.shape"
   ]
  },
  {
   "cell_type": "code",
   "execution_count": 20,
   "metadata": {
    "slideshow": {
     "slide_type": "subslide"
    }
   },
   "outputs": [
    {
     "data": {
      "text/plain": [
       "(torch.Size([5, 5]), torch.Size([100, 5, 5]))"
      ]
     },
     "execution_count": 20,
     "metadata": {},
     "output_type": "execute_result"
    }
   ],
   "source": [
    "img_weights = (img * unsqueezed_weights)\n",
    "batch_weights = (batch * unsqueezed_weights)\n",
    "img_gray_weighted = img_weights.sum(-3)\n",
    "batch_gray_weighted = batch_weights.sum(-3)\n",
    "img_gray_weighted.shape, batch_gray_weighted.shape"
   ]
  },
  {
   "cell_type": "markdown",
   "metadata": {
    "slideshow": {
     "slide_type": "slide"
    }
   },
   "source": [
    "### Named Tensors\n",
    "\n",
    "PyTorch 1.3 added **named tensors** as an experimental feature. Tensor factory functions such as ```tensor``` take a ```names``` argument. The names should be a sequence of strings."
   ]
  },
  {
   "cell_type": "code",
   "execution_count": 21,
   "metadata": {
    "slideshow": {
     "slide_type": "subslide"
    }
   },
   "outputs": [
    {
     "name": "stderr",
     "output_type": "stream",
     "text": [
      "..\\c10/core/TensorImpl.h:845: UserWarning: Named tensors and all their associated APIs are an experimental feature and subject to change. Please do not use them for anything important until they are released as stable.\n"
     ]
    },
    {
     "data": {
      "text/plain": [
       "tensor([0.2126, 0.7152, 0.0722], names=('channels',))"
      ]
     },
     "execution_count": 21,
     "metadata": {},
     "output_type": "execute_result"
    }
   ],
   "source": [
    "weights_named = torch.tensor([0.2126, 0.7152, 0.0722], names=['channels'])\n",
    "weights_named"
   ]
  },
  {
   "cell_type": "markdown",
   "metadata": {
    "slideshow": {
     "slide_type": "subslide"
    }
   },
   "source": [
    "When we already have a tensor and want to add names (but not change existing ones), we can call the method ```refine_names``` on it. Similar to indexing, the ellipsis ```…``` allows you to leave out any number of dimensions. With the ```rename``` sibling method you can also overwrite or drop (by passing in None) existing names."
   ]
  },
  {
   "cell_type": "code",
   "execution_count": 23,
   "metadata": {
    "slideshow": {
     "slide_type": "subslide"
    }
   },
   "outputs": [
    {
     "name": "stdout",
     "output_type": "stream",
     "text": [
      "img named: torch.Size([3, 5, 5]) ('channels', 'rows', 'columns')\n",
      "batch named: torch.Size([100, 3, 5, 5]) (None, 'channels', 'rows', 'columns')\n"
     ]
    }
   ],
   "source": [
    "img_named = img.refine_names(...,'channels','rows','columns')\n",
    "batch_named = batch.refine_names(...,'channels','rows','columns')\n",
    "\n",
    "print(\"img named:\", img_named.shape, img_named.names)\n",
    "print(\"batch named:\", batch_named.shape, batch_named.names)"
   ]
  },
  {
   "cell_type": "code",
   "execution_count": 25,
   "metadata": {
    "slideshow": {
     "slide_type": "subslide"
    }
   },
   "outputs": [
    {
     "data": {
      "text/plain": [
       "(torch.Size([3, 1, 1]), ('channels', 'rows', 'columns'))"
      ]
     },
     "execution_count": 25,
     "metadata": {},
     "output_type": "execute_result"
    }
   ],
   "source": [
    "weights_aligned = weights_named.align_as(img_named)\n",
    "\n",
    "weights_aligned.shape, weights_aligned.names"
   ]
  },
  {
   "cell_type": "code",
   "execution_count": 26,
   "metadata": {
    "slideshow": {
     "slide_type": "subslide"
    }
   },
   "outputs": [
    {
     "data": {
      "text/plain": [
       "(torch.Size([5, 5]), ('rows', 'columns'))"
      ]
     },
     "execution_count": 26,
     "metadata": {},
     "output_type": "execute_result"
    }
   ],
   "source": [
    "gray_image = (img_named * weights_aligned).sum('channels')\n",
    "\n",
    "gray_image.shape, gray_image.names"
   ]
  },
  {
   "cell_type": "markdown",
   "metadata": {
    "slideshow": {
     "slide_type": "slide"
    }
   },
   "source": [
    "### The Tensor API\n",
    "\n",
    "The vast majority of operations on and between tensors are available under the ```torch``` module."
   ]
  },
  {
   "cell_type": "code",
   "execution_count": 29,
   "metadata": {
    "slideshow": {
     "slide_type": "subslide"
    }
   },
   "outputs": [
    {
     "data": {
      "text/plain": [
       "(torch.Size([3, 2]), torch.Size([2, 3]))"
      ]
     },
     "execution_count": 29,
     "metadata": {},
     "output_type": "execute_result"
    }
   ],
   "source": [
    "a = torch.ones(3,2)\n",
    "# a_t = a.T\n",
    "# a_t = torch.t(a)\n",
    "a_t = a.transpose(0,1)\n",
    "\n",
    "a.shape, a_t.shape"
   ]
  },
  {
   "cell_type": "code",
   "execution_count": 30,
   "metadata": {
    "slideshow": {
     "slide_type": "subslide"
    }
   },
   "outputs": [
    {
     "data": {
      "text/plain": [
       "torch.Size([3, 3])"
      ]
     },
     "execution_count": 30,
     "metadata": {},
     "output_type": "execute_result"
    }
   ],
   "source": [
    "c = a @ a_t\n",
    "\n",
    "c.shape"
   ]
  },
  {
   "cell_type": "markdown",
   "metadata": {
    "slideshow": {
     "slide_type": "slide"
    }
   },
   "source": [
    "PyTorch documentation is exhaustive and well organized, with the tensor operations divided into groups. Let's check it out: www.pytorch.org/docs "
   ]
  },
  {
   "cell_type": "markdown",
   "metadata": {
    "slideshow": {
     "slide_type": "slide"
    }
   },
   "source": [
    "## Linear Regression using PyTorch\n",
    "\n",
    "**Example:** We just got back from our trip to some obscure location, we brought back a fancy, wall-mounted analog thermometer. It looks great, it's a perfect fit for our living room. Its only flaw: it doesn't khow units. We'll build a dataset of readings and corresponding temperature values in our favorite units, choose a model, adjust its weights iteratively until a measure of the error is low enough and we’ll finally be able to interpret the new readings in units we understand."
   ]
  },
  {
   "cell_type": "code",
   "execution_count": 31,
   "metadata": {
    "slideshow": {
     "slide_type": "subslide"
    }
   },
   "outputs": [
    {
     "data": {
      "text/plain": [
       "(torch.Size([11]),\n",
       " tensor([35.7000, 55.9000, 58.2000, 81.9000, 56.3000, 48.9000, 33.9000, 21.8000,\n",
       "         48.4000, 60.4000, 68.4000]))"
      ]
     },
     "execution_count": 31,
     "metadata": {},
     "output_type": "execute_result"
    }
   ],
   "source": [
    "t_c = [0.5, 14.0, 15.0, 28.0, 11.0, 8.0, 3.0, -4.0, 6.0, 13.0, 21.0] # Temperature in Celsius\n",
    "t_u = [35.7, 55.9, 58.2, 81.9, 56.3, 48.9, 33.9, 21.8, 48.4, 60.4, 68.4] # Temperature in unknown \n",
    "t_c = torch.tensor(t_c)\n",
    "t_u = torch.tensor(t_u)\n",
    "\n",
    "t_u.shape, t_u"
   ]
  },
  {
   "cell_type": "code",
   "execution_count": 32,
   "metadata": {
    "slideshow": {
     "slide_type": "subslide"
    }
   },
   "outputs": [
    {
     "data": {
      "image/png": "[encoded data removed]",
      "text/plain": [
       "<Figure size 432x288 with 1 Axes>"
      ]
     },
     "metadata": {
      "needs_background": "light"
     },
     "output_type": "display_data"
    }
   ],
   "source": [
    "import matplotlib.pyplot as plt\n",
    "%matplotlib inline\n",
    "\n",
    "plt.scatter(t_u,t_c);\n",
    "plt.xlabel('Temperature in unknown units')\n",
    "plt.ylabel('Temperature in Celsius');"
   ]
  },
  {
   "cell_type": "code",
   "execution_count": 33,
   "metadata": {
    "slideshow": {
     "slide_type": "subslide"
    }
   },
   "outputs": [
    {
     "data": {
      "text/plain": [
       "(torch.Size([11, 1]), tensor([[35.7000],\n",
       "         [55.9000],\n",
       "         [58.2000],\n",
       "         [81.9000],\n",
       "         [56.3000],\n",
       "         [48.9000],\n",
       "         [33.9000],\n",
       "         [21.8000],\n",
       "         [48.4000],\n",
       "         [60.4000],\n",
       "         [68.4000]]))"
      ]
     },
     "execution_count": 33,
     "metadata": {},
     "output_type": "execute_result"
    }
   ],
   "source": [
    "t_c = t_c.unsqueeze(1)\n",
    "t_u = t_u.unsqueeze(1)\n",
    "\n",
    "t_u.shape, t_u"
   ]
  },
  {
   "cell_type": "markdown",
   "metadata": {
    "slideshow": {
     "slide_type": "subslide"
    }
   },
   "source": [
    "Let's consider the output of a neuron unit as a linear function:\n",
    "\n",
    "$$y = wx + b$$\n",
    "\n",
    "where $y$ correspond to the temperature in Celsius and $x$ correspond to the temperature in unknown unit."
   ]
  },
  {
   "cell_type": "code",
   "execution_count": 34,
   "metadata": {
    "slideshow": {
     "slide_type": "subslide"
    }
   },
   "outputs": [],
   "source": [
    "def model(x, w, b):\n",
    "    return w * x + b"
   ]
  },
  {
   "cell_type": "code",
   "execution_count": 35,
   "metadata": {
    "slideshow": {
     "slide_type": "subslide"
    }
   },
   "outputs": [],
   "source": [
    "def loss_fn(prediction, y):\n",
    "    squared_diffs = (prediction - y)**2\n",
    "    return squared_diffs.mean()"
   ]
  },
  {
   "cell_type": "code",
   "execution_count": 36,
   "metadata": {
    "slideshow": {
     "slide_type": "subslide"
    }
   },
   "outputs": [
    {
     "data": {
      "text/plain": [
       "tensor([[35.7000],\n",
       "        [55.9000],\n",
       "        [58.2000],\n",
       "        [81.9000],\n",
       "        [56.3000],\n",
       "        [48.9000],\n",
       "        [33.9000],\n",
       "        [21.8000],\n",
       "        [48.4000],\n",
       "        [60.4000],\n",
       "        [68.4000]])"
      ]
     },
     "execution_count": 36,
     "metadata": {},
     "output_type": "execute_result"
    }
   ],
   "source": [
    "w = torch.ones(())\n",
    "b = torch.zeros(())\n",
    "\n",
    "prediction = model(t_u, w, b)\n",
    "prediction"
   ]
  },
  {
   "cell_type": "code",
   "execution_count": 37,
   "metadata": {
    "slideshow": {
     "slide_type": "subslide"
    }
   },
   "outputs": [
    {
     "data": {
      "text/plain": [
       "tensor(1763.8846)"
      ]
     },
     "execution_count": 37,
     "metadata": {},
     "output_type": "execute_result"
    }
   ],
   "source": [
    "loss = loss_fn(prediction, t_c)\n",
    "loss"
   ]
  },
  {
   "cell_type": "code",
   "execution_count": 38,
   "metadata": {
    "slideshow": {
     "slide_type": "subslide"
    }
   },
   "outputs": [],
   "source": [
    "delta = 0.1\n",
    "\n",
    "# definition of gradient\n",
    "loss_rate_of_change_w = \\\n",
    "    (loss_fn(model(t_u, w + delta, b), t_c) - \n",
    "     loss_fn(model(t_u, w - delta, b), t_c)) / (2.0 * delta)"
   ]
  },
  {
   "cell_type": "code",
   "execution_count": 39,
   "metadata": {
    "slideshow": {
     "slide_type": "subslide"
    }
   },
   "outputs": [],
   "source": [
    "learning_rate = 1e-2\n",
    "\n",
    "w = w - learning_rate * loss_rate_of_change_w"
   ]
  },
  {
   "cell_type": "code",
   "execution_count": 40,
   "metadata": {
    "slideshow": {
     "slide_type": "subslide"
    }
   },
   "outputs": [],
   "source": [
    "loss_rate_of_change_b = \\\n",
    "    (loss_fn(model(t_u, w, b + delta), t_c) - \n",
    "     loss_fn(model(t_u, w, b - delta), t_c)) / (2.0 * delta)\n",
    "\n",
    "b = b - learning_rate * loss_rate_of_change_b"
   ]
  },
  {
   "cell_type": "code",
   "execution_count": 41,
   "metadata": {
    "slideshow": {
     "slide_type": "subslide"
    }
   },
   "outputs": [],
   "source": [
    "def dloss_fn(prediction, y):\n",
    "    dsq_diffs = 2 * (prediction - y) / prediction.size(0) # derivative of the loss function\n",
    "    return dsq_diffs"
   ]
  },
  {
   "cell_type": "code",
   "execution_count": 42,
   "metadata": {
    "slideshow": {
     "slide_type": "subslide"
    }
   },
   "outputs": [],
   "source": [
    "def dmodel_dw(x, w, b):\n",
    "    return x\n",
    "\n",
    "def dmodel_db(x, w, b):\n",
    "    return 1.0"
   ]
  },
  {
   "cell_type": "markdown",
   "metadata": {
    "slideshow": {
     "slide_type": "subslide"
    }
   },
   "source": [
    "Putting all this together, the function returning the gradient of the loss with respect to $w$ and $b$ is:"
   ]
  },
  {
   "cell_type": "code",
   "execution_count": 43,
   "metadata": {
    "slideshow": {
     "slide_type": "subslide"
    }
   },
   "outputs": [],
   "source": [
    "def grad_fn(x, y, prediction, w, b):\n",
    "    dloss_dtp = dloss_fn(prediction, y)\n",
    "    dloss_dw = dloss_dtp * dmodel_dw(x, w, b)\n",
    "    dloss_db = dloss_dtp * dmodel_db(x, w, b)\n",
    "    return torch.stack([dloss_dw.sum(), dloss_db.sum()])"
   ]
  },
  {
   "cell_type": "code",
   "execution_count": 44,
   "metadata": {
    "slideshow": {
     "slide_type": "subslide"
    }
   },
   "outputs": [],
   "source": [
    "def training_loop(n_epochs, learning_rate, params, x, y, print_params=True):\n",
    "    for epoch in range(1, n_epochs + 1):\n",
    "        w, b = params\n",
    "\n",
    "        prediction = model(x, w, b)  # Forward pass\n",
    "        loss = loss_fn(prediction, y)\n",
    "        grad = grad_fn(x, y, prediction, w, b)  # Backward pass\n",
    "\n",
    "        params = params - learning_rate * grad\n",
    "\n",
    "        if epoch in {1, 2, 3, 10, 11, 99, 100, 4000, 5000}: \n",
    "            print('Epoch %d, Loss %f' % (epoch, float(loss)))\n",
    "            if print_params:\n",
    "                print('    Params:', params)\n",
    "                print('    Grad:  ', grad)\n",
    "        if epoch in {4, 12, 101}:\n",
    "            print('...')\n",
    "\n",
    "        if not torch.isfinite(loss).all():\n",
    "            break \n",
    "            \n",
    "    return params"
   ]
  },
  {
   "cell_type": "code",
   "execution_count": 45,
   "metadata": {
    "slideshow": {
     "slide_type": "subslide"
    }
   },
   "outputs": [
    {
     "name": "stdout",
     "output_type": "stream",
     "text": [
      "Epoch 1, Loss 1763.884644\n",
      "    Params: tensor([ 0.5483, -0.0083])\n",
      "    Grad:   tensor([4517.2969,   82.6000])\n",
      "Epoch 2, Loss 323.090546\n",
      "    Params: tensor([ 0.3623, -0.0118])\n",
      "    Grad:   tensor([1859.5493,   35.7843])\n",
      "Epoch 3, Loss 78.929634\n",
      "    Params: tensor([ 0.2858, -0.0135])\n",
      "    Grad:   tensor([765.4667,  16.5122])\n",
      "...\n",
      "Epoch 10, Loss 29.105242\n",
      "    Params: tensor([ 0.2324, -0.0166])\n",
      "    Grad:   tensor([1.4803, 3.0544])\n",
      "Epoch 11, Loss 29.104168\n",
      "    Params: tensor([ 0.2323, -0.0169])\n",
      "    Grad:   tensor([0.5781, 3.0384])\n",
      "...\n",
      "Epoch 99, Loss 29.023582\n",
      "    Params: tensor([ 0.2327, -0.0435])\n",
      "    Grad:   tensor([-0.0533,  3.0226])\n",
      "Epoch 100, Loss 29.022669\n",
      "    Params: tensor([ 0.2327, -0.0438])\n",
      "    Grad:   tensor([-0.0532,  3.0226])\n"
     ]
    },
    {
     "data": {
      "text/plain": [
       "tensor([ 0.2327, -0.0438])"
      ]
     },
     "execution_count": 45,
     "metadata": {},
     "output_type": "execute_result"
    }
   ],
   "source": [
    "training_loop(\n",
    "n_epochs = 100,\n",
    "learning_rate = 1e-4,\n",
    "params = torch.tensor([1.0,0.0]),\n",
    "x = t_u,\n",
    "y = t_c)"
   ]
  },
  {
   "cell_type": "code",
   "execution_count": 46,
   "metadata": {},
   "outputs": [],
   "source": [
    "t_un = 0.1 *t_u"
   ]
  },
  {
   "cell_type": "code",
   "execution_count": 48,
   "metadata": {},
   "outputs": [
    {
     "name": "stdout",
     "output_type": "stream",
     "text": [
      "Epoch 1, Loss 80.364342\n",
      "    Params: tensor([1.0078, 0.0011])\n",
      "    Grad:   tensor([-77.6140, -10.6400])\n",
      "Epoch 2, Loss 79.752480\n",
      "    Params: tensor([1.0155, 0.0021])\n",
      "    Grad:   tensor([-77.1465, -10.5575])\n",
      "Epoch 3, Loss 79.148026\n",
      "    Params: tensor([1.0231, 0.0032])\n",
      "    Grad:   tensor([-76.6818, -10.4754])\n",
      "...\n",
      "Epoch 10, Loss 75.116219\n",
      "    Params: tensor([1.0755, 0.0103])\n",
      "    Grad:   tensor([-73.5070,  -9.9150])\n",
      "Epoch 11, Loss 74.567734\n",
      "    Params: tensor([1.0829, 0.0113])\n",
      "    Grad:   tensor([-73.0644,  -9.8368])\n",
      "...\n",
      "Epoch 99, Loss 45.087246\n",
      "    Params: tensor([1.5803, 0.0721])\n",
      "    Grad:   tensor([-42.9955,  -4.5296])\n",
      "Epoch 100, Loss 44.900906\n",
      "    Params: tensor([1.5845, 0.0726])\n",
      "    Grad:   tensor([-42.7380,  -4.4842])\n"
     ]
    },
    {
     "data": {
      "text/plain": [
       "tensor([1.5845, 0.0726])"
      ]
     },
     "execution_count": 48,
     "metadata": {},
     "output_type": "execute_result"
    }
   ],
   "source": [
    "training_loop(\n",
    "n_epochs = 100,\n",
    "learning_rate = 1e-4,\n",
    "params = torch.tensor([1.0,0.0]),\n",
    "x = t_un,\n",
    "y = t_c)"
   ]
  },
  {
   "cell_type": "code",
   "execution_count": 52,
   "metadata": {},
   "outputs": [
    {
     "name": "stdout",
     "output_type": "stream",
     "text": [
      "Epoch 1, Loss 80.364342\n",
      "    Params: tensor([1.7761, 0.1064])\n",
      "    Grad:   tensor([-77.6140, -10.6400])\n",
      "Epoch 2, Loss 37.574917\n",
      "    Params: tensor([2.0848, 0.1303])\n",
      "    Grad:   tensor([-30.8623,  -2.3864])\n",
      "Epoch 3, Loss 30.871077\n",
      "    Params: tensor([2.2094, 0.1217])\n",
      "    Grad:   tensor([-12.4631,   0.8587])\n",
      "...\n",
      "Epoch 10, Loss 29.030487\n",
      "    Params: tensor([ 2.3232, -0.0710])\n",
      "    Grad:   tensor([-0.5355,  2.9295])\n",
      "Epoch 11, Loss 28.941875\n",
      "    Params: tensor([ 2.3284, -0.1003])\n",
      "    Grad:   tensor([-0.5240,  2.9264])\n",
      "...\n",
      "Epoch 99, Loss 22.214186\n",
      "    Params: tensor([ 2.7508, -2.4910])\n",
      "    Grad:   tensor([-0.4453,  2.5208])\n",
      "Epoch 100, Loss 22.148710\n",
      "    Params: tensor([ 2.7553, -2.5162])\n",
      "    Grad:   tensor([-0.4446,  2.5165])\n",
      "...\n",
      "Epoch 4000, Loss 2.927680\n",
      "    Params: tensor([  5.3643, -17.2853])\n",
      "    Grad:   tensor([-0.0006,  0.0033])\n",
      "Epoch 5000, Loss 2.927648\n",
      "    Params: tensor([  5.3671, -17.3012])\n",
      "    Grad:   tensor([-0.0001,  0.0006])\n"
     ]
    }
   ],
   "source": [
    "params = training_loop(\n",
    "n_epochs = 5000,\n",
    "learning_rate = 1e-2,\n",
    "params = torch.tensor([1.0,0.0]),\n",
    "x = t_un,\n",
    "y = t_c)"
   ]
  },
  {
   "cell_type": "code",
   "execution_count": 53,
   "metadata": {
    "slideshow": {
     "slide_type": "subslide"
    }
   },
   "outputs": [
    {
     "data": {
      "image/png": "[encoded data removed]",
      "text/plain": [
       "<Figure size 432x288 with 1 Axes>"
      ]
     },
     "metadata": {
      "needs_background": "light"
     },
     "output_type": "display_data"
    }
   ],
   "source": [
    "prediction = model(t_un, *params)\n",
    "\n",
    "plt.plot(t_u.numpy(), prediction.detach().numpy())\n",
    "plt.plot(t_u.numpy(), t_c.numpy(), 'o');"
   ]
  },
  {
   "cell_type": "markdown",
   "metadata": {
    "slideshow": {
     "slide_type": "subslide"
    }
   },
   "source": [
    "## PyTorch's Autograd\n",
    "\n",
    "Depending on the cost function we use, we will need to compute the updates by hand... That's not good!\n",
    "\n",
    "This is when PyTorch tensors come to the rescue, with a PyTorch component called autograd. Given a forward expression, no\n",
    "matter how nested, PyTorch will provide the gradient of that expression with respect to its input parameters automatically."
   ]
  },
  {
   "cell_type": "code",
   "execution_count": 54,
   "metadata": {
    "slideshow": {
     "slide_type": "subslide"
    }
   },
   "outputs": [],
   "source": [
    "def training_loop(n_epochs, learning_rate, params, x, y):\n",
    "    for epoch in range(1, n_epochs + 1):\n",
    "        if params.grad is not None:\n",
    "            params.grad.zero_()\n",
    "            \n",
    "        prediction = model(x, *params)\n",
    "        loss = loss_fn(prediction, y)\n",
    "        loss.backward()\n",
    "        \n",
    "        with torch.no_grad():\n",
    "            params -= learning_rate * params.grad\n",
    "        \n",
    "        if epoch % 500 == 0:\n",
    "            print('Epoch %d, Loss %f' % (epoch, float(loss)))\n",
    "    return params"
   ]
  },
  {
   "cell_type": "code",
   "execution_count": 56,
   "metadata": {
    "slideshow": {
     "slide_type": "subslide"
    }
   },
   "outputs": [
    {
     "name": "stdout",
     "output_type": "stream",
     "text": [
      "Epoch 500, Loss 7.860116\n",
      "Epoch 1000, Loss 3.828538\n",
      "Epoch 1500, Loss 3.092191\n",
      "Epoch 2000, Loss 2.957697\n",
      "Epoch 2500, Loss 2.933134\n",
      "Epoch 3000, Loss 2.928648\n",
      "Epoch 3500, Loss 2.927830\n",
      "Epoch 4000, Loss 2.927679\n",
      "Epoch 4500, Loss 2.927652\n",
      "Epoch 5000, Loss 2.927647\n"
     ]
    },
    {
     "data": {
      "text/plain": [
       "tensor([  5.3671, -17.3012], requires_grad=True)"
      ]
     },
     "execution_count": 56,
     "metadata": {},
     "output_type": "execute_result"
    }
   ],
   "source": [
    "params = training_loop(\n",
    "n_epochs = 5000,\n",
    "learning_rate = 1e-2,\n",
    "params = torch.tensor([1.0,0.0], requires_grad=True),\n",
    "x = t_un,\n",
    "y = t_c)\n",
    "params"
   ]
  },
  {
   "cell_type": "code",
   "execution_count": 57,
   "metadata": {
    "slideshow": {
     "slide_type": "subslide"
    }
   },
   "outputs": [
    {
     "data": {
      "text/plain": [
       "['ASGD',\n",
       " 'Adadelta',\n",
       " 'Adagrad',\n",
       " 'Adam',\n",
       " 'AdamW',\n",
       " 'Adamax',\n",
       " 'LBFGS',\n",
       " 'Optimizer',\n",
       " 'RMSprop',\n",
       " 'Rprop',\n",
       " 'SGD',\n",
       " 'SparseAdam',\n",
       " '__builtins__',\n",
       " '__cached__',\n",
       " '__doc__',\n",
       " '__file__',\n",
       " '__loader__',\n",
       " '__name__',\n",
       " '__package__',\n",
       " '__path__',\n",
       " '__spec__',\n",
       " 'lr_scheduler']"
      ]
     },
     "execution_count": 57,
     "metadata": {},
     "output_type": "execute_result"
    }
   ],
   "source": [
    "import torch.optim as optim\n",
    "\n",
    "dir(optim)"
   ]
  },
  {
   "cell_type": "markdown",
   "metadata": {
    "slideshow": {
     "slide_type": "slide"
    }
   },
   "source": [
    "## Using a Neural Network\n",
    "\n",
    "PyTorch has a whole submodule dedicated to neural networks, called ```torch.nn```. It contains the building blocks needed to create all sorts of neural network architectures. Those building blocks are called modules in PyTorch parlance (these building blocks are often referred to as layers in other frameworks)."
   ]
  },
  {
   "cell_type": "code",
   "execution_count": 58,
   "metadata": {
    "slideshow": {
     "slide_type": "subslide"
    }
   },
   "outputs": [
    {
     "data": {
      "text/plain": [
       "(tensor([ 1,  5,  0,  7,  3,  6,  2, 10,  9]), tensor([8, 4]))"
      ]
     },
     "execution_count": 58,
     "metadata": {},
     "output_type": "execute_result"
    }
   ],
   "source": [
    "n_samples = t_un.shape[0]\n",
    "n_val = int(0.2 * n_samples)\n",
    "\n",
    "shuffled_indices = torch.randperm(n_samples)\n",
    "\n",
    "train_indices = shuffled_indices[:-n_val]\n",
    "val_indices = shuffled_indices[-n_val:]\n",
    "\n",
    "train_indices, val_indices"
   ]
  },
  {
   "cell_type": "code",
   "execution_count": 59,
   "metadata": {
    "slideshow": {
     "slide_type": "subslide"
    }
   },
   "outputs": [],
   "source": [
    "t_un_train = t_un[train_indices]\n",
    "t_c_train = t_c[train_indices]\n",
    "\n",
    "t_un_val = t_un[val_indices]\n",
    "t_c_val = t_c[val_indices]"
   ]
  },
  {
   "cell_type": "code",
   "execution_count": 61,
   "metadata": {
    "slideshow": {
     "slide_type": "subslide"
    }
   },
   "outputs": [
    {
     "data": {
      "text/plain": [
       "(tensor([[-0.6210],\n",
       "         [-0.8001]], grad_fn=<AddmmBackward>), tensor([[4.8400],\n",
       "         [5.6300]]))"
      ]
     },
     "execution_count": 61,
     "metadata": {},
     "output_type": "execute_result"
    }
   ],
   "source": [
    "import torch.nn as nn\n",
    "\n",
    "# y=f(wx+b) where f(x)=x\n",
    "\n",
    "linear_model = nn.Linear(1,1)\n",
    "linear_model(t_un_val), t_un_val"
   ]
  },
  {
   "cell_type": "code",
   "execution_count": 62,
   "metadata": {
    "slideshow": {
     "slide_type": "subslide"
    }
   },
   "outputs": [
    {
     "data": {
      "text/plain": [
       "Parameter containing:\n",
       "tensor([[-0.2266]], requires_grad=True)"
      ]
     },
     "execution_count": 62,
     "metadata": {},
     "output_type": "execute_result"
    }
   ],
   "source": [
    "linear_model.weight"
   ]
  },
  {
   "cell_type": "code",
   "execution_count": 63,
   "metadata": {
    "slideshow": {
     "slide_type": "subslide"
    }
   },
   "outputs": [
    {
     "data": {
      "text/plain": [
       "Parameter containing:\n",
       "tensor([0.4759], requires_grad=True)"
      ]
     },
     "execution_count": 63,
     "metadata": {},
     "output_type": "execute_result"
    }
   ],
   "source": [
    "linear_model.bias"
   ]
  },
  {
   "cell_type": "code",
   "execution_count": 64,
   "metadata": {
    "slideshow": {
     "slide_type": "subslide"
    }
   },
   "outputs": [
    {
     "data": {
      "text/plain": [
       "tensor([0.2493], grad_fn=<AddBackward0>)"
      ]
     },
     "execution_count": 64,
     "metadata": {},
     "output_type": "execute_result"
    }
   ],
   "source": [
    "x = torch.ones(1)\n",
    "linear_model(x)"
   ]
  },
  {
   "cell_type": "code",
   "execution_count": 65,
   "metadata": {},
   "outputs": [
    {
     "data": {
      "text/plain": [
       "<generator object Module.parameters at 0x0000019CE1719ED0>"
      ]
     },
     "execution_count": 65,
     "metadata": {},
     "output_type": "execute_result"
    }
   ],
   "source": [
    "linear_model.parameters()"
   ]
  },
  {
   "cell_type": "code",
   "execution_count": 66,
   "metadata": {},
   "outputs": [
    {
     "data": {
      "text/plain": [
       "[Parameter containing:\n",
       " tensor([[-0.2266]], requires_grad=True), Parameter containing:\n",
       " tensor([0.4759], requires_grad=True)]"
      ]
     },
     "execution_count": 66,
     "metadata": {},
     "output_type": "execute_result"
    }
   ],
   "source": [
    "list(linear_model.parameters())"
   ]
  },
  {
   "cell_type": "code",
   "execution_count": 67,
   "metadata": {
    "slideshow": {
     "slide_type": "subslide"
    }
   },
   "outputs": [],
   "source": [
    "linear_model = nn.Linear(1,1) #everytime you call this function it's going to initialize the parameters with a different value\n",
    "optimizer = optim.SGD(\n",
    "linear_model.parameters(),\n",
    "lr = 1e-2)"
   ]
  },
  {
   "cell_type": "code",
   "execution_count": null,
   "metadata": {
    "slideshow": {
     "slide_type": "subslide"
    }
   },
   "outputs": [],
   "source": []
  },
  {
   "cell_type": "code",
   "execution_count": null,
   "metadata": {
    "slideshow": {
     "slide_type": "subslide"
    }
   },
   "outputs": [],
   "source": []
  },
  {
   "cell_type": "code",
   "execution_count": 68,
   "metadata": {
    "slideshow": {
     "slide_type": "subslide"
    }
   },
   "outputs": [],
   "source": [
    "def training_loop(n_epochs, optimizer, model, loss_fn, x_train, x_val, y_train, y_val):\n",
    "    for epoch in range(1, n_epochs + 1):\n",
    "        pred_train = model(x_train)\n",
    "        loss_train = loss_fn(pred_train, y_train)\n",
    "        \n",
    "        pred_val = model(x_val)\n",
    "        loss_val = loss_fn(pred_val, y_val)\n",
    "        \n",
    "        optimizer.zero_grad()\n",
    "        loss_train.backward()\n",
    "        optimizer.step()\n",
    "        \n",
    "        if epoch == 1 or epoch % 1000 == 0:\n",
    "            print('Epoch {}, Training loss {}, Validation loss {}'.format(\n",
    "                epoch, float(loss_train), float(loss_val)))"
   ]
  },
  {
   "cell_type": "code",
   "execution_count": 69,
   "metadata": {
    "slideshow": {
     "slide_type": "subslide"
    }
   },
   "outputs": [
    {
     "name": "stdout",
     "output_type": "stream",
     "text": [
      "Epoch 1, Training loss 192.78611755371094, Validation loss 69.76477813720703\n",
      "Epoch 1000, Training loss 2.59861159324646, Validation loss 9.267106056213379\n",
      "Epoch 2000, Training loss 2.1237168312072754, Validation loss 8.171891212463379\n",
      "Epoch 3000, Training loss 2.115502119064331, Validation loss 8.03445816040039\n",
      "\n",
      "Parameter containing:\n",
      "tensor([[5.3616]], requires_grad=True)\n",
      "Parameter containing:\n",
      "tensor([-16.7592], requires_grad=True)\n"
     ]
    }
   ],
   "source": [
    "linear_model = nn.Linear(1, 1)\n",
    "optimizer = optim.SGD(linear_model.parameters(), lr=1e-2)\n",
    "\n",
    "training_loop(\n",
    "n_epochs=3000,\n",
    "optimizer=optimizer,\n",
    "model = linear_model, \n",
    "loss_fn = nn.MSELoss(), \n",
    "x_train = t_un_train, \n",
    "x_val = t_un_val, \n",
    "y_train = t_c_train, \n",
    "y_val = t_c_val)\n",
    "\n",
    "print()\n",
    "print(linear_model.weight)\n",
    "print(linear_model.bias)"
   ]
  },
  {
   "cell_type": "code",
   "execution_count": null,
   "metadata": {
    "slideshow": {
     "slide_type": "subslide"
    }
   },
   "outputs": [],
   "source": []
  },
  {
   "cell_type": "code",
   "execution_count": 71,
   "metadata": {
    "scrolled": true,
    "slideshow": {
     "slide_type": "subslide"
    }
   },
   "outputs": [
    {
     "data": {
      "image/png": "[encoded data removed]",
      "text/plain": [
       "<Figure size 432x288 with 1 Axes>"
      ]
     },
     "metadata": {
      "needs_background": "light"
     },
     "output_type": "display_data"
    }
   ],
   "source": [
    "t_range = torch.arange(20., 90.).unsqueeze(1)\n",
    "\n",
    "plt.xlabel(\"Fahrenheit\")\n",
    "plt.ylabel(\"Celsius\")\n",
    "plt.plot(t_u.numpy(), t_c.numpy(), 'o')\n",
    "plt.plot(t_range.numpy(), linear_model(0.1 * t_range).detach().numpy(), 'c-')\n",
    "plt.plot(t_u.numpy(), linear_model(0.1 * t_u).detach().numpy(), 'kx');"
   ]
  },
  {
   "cell_type": "markdown",
   "metadata": {
    "slideshow": {
     "slide_type": "slide"
    }
   },
   "source": [
    "## Subclassing nn.Module\n",
    "\n",
    "Adding model complexity..."
   ]
  },
  {
   "cell_type": "code",
   "execution_count": 72,
   "metadata": {
    "scrolled": true,
    "slideshow": {
     "slide_type": "subslide"
    }
   },
   "outputs": [
    {
     "data": {
      "text/plain": [
       "Sequential(\n",
       "  (0): Linear(in_features=1, out_features=13, bias=True)\n",
       "  (1): Tanh()\n",
       "  (2): Linear(in_features=13, out_features=1, bias=True)\n",
       ")"
      ]
     },
     "execution_count": 72,
     "metadata": {},
     "output_type": "execute_result"
    }
   ],
   "source": [
    "seq_model = nn.Sequential(\n",
    "nn.Linear(1,13),\n",
    "nn.Tanh(),\n",
    "nn.Linear(13,1))\n",
    "seq_model"
   ]
  },
  {
   "cell_type": "code",
   "execution_count": 73,
   "metadata": {
    "slideshow": {
     "slide_type": "subslide"
    }
   },
   "outputs": [
    {
     "name": "stdout",
     "output_type": "stream",
     "text": [
      "0.weight torch.Size([13, 1])\n",
      "0.bias torch.Size([13])\n",
      "2.weight torch.Size([1, 13])\n",
      "2.bias torch.Size([1])\n"
     ]
    }
   ],
   "source": [
    "for name, param in seq_model.named_parameters():\n",
    "    print(name, param.shape)"
   ]
  },
  {
   "cell_type": "code",
   "execution_count": 74,
   "metadata": {
    "slideshow": {
     "slide_type": "subslide"
    }
   },
   "outputs": [
    {
     "data": {
      "text/plain": [
       "Sequential(\n",
       "  (hidden_linear): Linear(in_features=1, out_features=8, bias=True)\n",
       "  (hidden_activation): Tanh()\n",
       "  (output_linear): Linear(in_features=8, out_features=1, bias=True)\n",
       ")"
      ]
     },
     "execution_count": 74,
     "metadata": {},
     "output_type": "execute_result"
    }
   ],
   "source": [
    "from collections import OrderedDict\n",
    "\n",
    "seq_model = nn.Sequential(OrderedDict([\n",
    "    ('hidden_linear', nn.Linear(1, 8)),\n",
    "    ('hidden_activation', nn.Tanh()),\n",
    "    ('output_linear', nn.Linear(8, 1))\n",
    "]))\n",
    "\n",
    "seq_model"
   ]
  },
  {
   "cell_type": "markdown",
   "metadata": {
    "slideshow": {
     "slide_type": "slide"
    }
   },
   "source": [
    "## Example: distinguishing birds from airplanes using CIFAR-10 data set\n",
    "\n",
    "CIFAR-10 consists of 60000 tiny 32x32 color (RGB) images, labeled with an integer corresponding to 10 classes, namely airplane (0), automobile (1), bird (2), cat (3), deer (4), dog (5), frog (6), horse (7), ship (8), truck (9)."
   ]
  },
  {
   "cell_type": "code",
   "execution_count": 75,
   "metadata": {
    "slideshow": {
     "slide_type": "subslide"
    }
   },
   "outputs": [
    {
     "name": "stdout",
     "output_type": "stream",
     "text": [
      "Downloading https://www.cs.toronto.edu/~kriz/cifar-10-python.tar.gz to ../data-unversioned/p1ch6/cifar-10-python.tar.gz\n"
     ]
    },
    {
     "data": {
      "application/vnd.jupyter.widget-view+json": {
       "model_id": "76ff45364121426a876aef917b395d02",
       "version_major": 2,
       "version_minor": 0
      },
      "text/plain": [
       "HBox(children=(IntProgress(value=1, bar_style='info', max=1), HTML(value='')))"
      ]
     },
     "metadata": {},
     "output_type": "display_data"
    },
    {
     "name": "stdout",
     "output_type": "stream",
     "text": [
      "Extracting ../data-unversioned/p1ch6/cifar-10-python.tar.gz to ../data-unversioned/p1ch6/\n",
      "Files already downloaded and verified\n"
     ]
    }
   ],
   "source": [
    "from torchvision import datasets\n",
    "data_path = '../data-unversioned/p1ch6/'\n",
    "\n",
    "cifar10 = datasets.CIFAR10(data_path, train=True, download=True)\n",
    "cifar10_val = datasets.CIFAR10(data_path, train=False, download=True)"
   ]
  },
  {
   "cell_type": "code",
   "execution_count": 77,
   "metadata": {
    "slideshow": {
     "slide_type": "subslide"
    }
   },
   "outputs": [
    {
     "data": {
      "image/png": "[encoded data removed]",
      "text/plain": [
       "<Figure size 144x144 with 1 Axes>"
      ]
     },
     "metadata": {
      "needs_background": "light"
     },
     "output_type": "display_data"
    }
   ],
   "source": [
    "img, label = cifar10[2]\n",
    "\n",
    "plt.figure(figsize=(2,2))\n",
    "plt.imshow(img)\n",
    "plt.title(label)\n",
    "plt.show()"
   ]
  },
  {
   "cell_type": "code",
   "execution_count": 79,
   "metadata": {},
   "outputs": [
    {
     "data": {
      "text/plain": [
       "PIL.Image.Image"
      ]
     },
     "execution_count": 79,
     "metadata": {},
     "output_type": "execute_result"
    }
   ],
   "source": [
    "type(img)"
   ]
  },
  {
   "cell_type": "code",
   "execution_count": 80,
   "metadata": {
    "slideshow": {
     "slide_type": "subslide"
    }
   },
   "outputs": [
    {
     "data": {
      "text/plain": [
       "['CenterCrop',\n",
       " 'ColorJitter',\n",
       " 'Compose',\n",
       " 'FiveCrop',\n",
       " 'Grayscale',\n",
       " 'Lambda',\n",
       " 'LinearTransformation',\n",
       " 'Normalize',\n",
       " 'Pad',\n",
       " 'RandomAffine',\n",
       " 'RandomApply',\n",
       " 'RandomChoice',\n",
       " 'RandomCrop',\n",
       " 'RandomErasing',\n",
       " 'RandomGrayscale',\n",
       " 'RandomHorizontalFlip',\n",
       " 'RandomOrder',\n",
       " 'RandomPerspective',\n",
       " 'RandomResizedCrop',\n",
       " 'RandomRotation',\n",
       " 'RandomSizedCrop',\n",
       " 'RandomVerticalFlip',\n",
       " 'Resize',\n",
       " 'Scale',\n",
       " 'TenCrop',\n",
       " 'ToPILImage',\n",
       " 'ToTensor',\n",
       " '__builtins__',\n",
       " '__cached__',\n",
       " '__doc__',\n",
       " '__file__',\n",
       " '__loader__',\n",
       " '__name__',\n",
       " '__package__',\n",
       " '__path__',\n",
       " '__spec__',\n",
       " 'functional',\n",
       " 'transforms']"
      ]
     },
     "execution_count": 80,
     "metadata": {},
     "output_type": "execute_result"
    }
   ],
   "source": [
    "from torchvision import transforms\n",
    "\n",
    "dir(transforms)"
   ]
  },
  {
   "cell_type": "code",
   "execution_count": 82,
   "metadata": {
    "slideshow": {
     "slide_type": "subslide"
    }
   },
   "outputs": [
    {
     "data": {
      "text/plain": [
       "torch.Size([3, 32, 32])"
      ]
     },
     "execution_count": 82,
     "metadata": {},
     "output_type": "execute_result"
    }
   ],
   "source": [
    "to_tensor = transforms.ToTensor()\n",
    "img_t = to_tensor(img)\n",
    "img_t.shape"
   ]
  },
  {
   "cell_type": "code",
   "execution_count": 83,
   "metadata": {
    "slideshow": {
     "slide_type": "subslide"
    }
   },
   "outputs": [],
   "source": [
    "tensor_cifar10 = datasets.CIFAR10(data_path, train=True, download=False,\n",
    "                                  transform=transforms.ToTensor())"
   ]
  },
  {
   "cell_type": "code",
   "execution_count": 84,
   "metadata": {
    "slideshow": {
     "slide_type": "subslide"
    }
   },
   "outputs": [
    {
     "data": {
      "text/plain": [
       "torch.Size([3, 32, 32, 50000])"
      ]
     },
     "execution_count": 84,
     "metadata": {},
     "output_type": "execute_result"
    }
   ],
   "source": [
    "imgs = torch.stack([img_t for img_t, _ in tensor_cifar10], dim=3)\n",
    "imgs.shape"
   ]
  },
  {
   "cell_type": "code",
   "execution_count": 89,
   "metadata": {
    "slideshow": {
     "slide_type": "subslide"
    }
   },
   "outputs": [
    {
     "data": {
      "text/plain": [
       "tensor([0.4915, 0.4823, 0.4468])"
      ]
     },
     "execution_count": 89,
     "metadata": {},
     "output_type": "execute_result"
    }
   ],
   "source": [
    "imgs.view(3, -1).mean(dim=1)"
   ]
  },
  {
   "cell_type": "code",
   "execution_count": 90,
   "metadata": {
    "slideshow": {
     "slide_type": "subslide"
    }
   },
   "outputs": [
    {
     "data": {
      "text/plain": [
       "tensor([0.2470, 0.2435, 0.2616])"
      ]
     },
     "execution_count": 90,
     "metadata": {},
     "output_type": "execute_result"
    }
   ],
   "source": [
    "imgs.view(3, -1).std(dim=1)"
   ]
  },
  {
   "cell_type": "code",
   "execution_count": 91,
   "metadata": {
    "slideshow": {
     "slide_type": "subslide"
    }
   },
   "outputs": [],
   "source": [
    "transformed_cifar10 = datasets.CIFAR10(data_path, train=True, download=False,\n",
    "                                       transform=transforms.Compose([\n",
    "                                           transforms.ToTensor(),\n",
    "                                           transforms.Normalize((0.4915, 0.4823, 0.4468),\n",
    "                                                                (0.2470, 0.2435, 0.2616))\n",
    "                                       ]))"
   ]
  },
  {
   "cell_type": "markdown",
   "metadata": {
    "slideshow": {
     "slide_type": "subslide"
    }
   },
   "source": [
    "Distinguishing birds from airplanes..."
   ]
  },
  {
   "cell_type": "code",
   "execution_count": 92,
   "metadata": {
    "slideshow": {
     "slide_type": "subslide"
    }
   },
   "outputs": [],
   "source": [
    "label_map = {0: 0, 2: 1}\n",
    "class_names = ['airplane', 'bird']\n",
    "cifar2 = [(img, label_map[label]) for img, label in cifar10 if label in [0, 2]]\n",
    "cifar2_val = [(img, label_map[label]) for img, label in cifar10_val if label in [0, 2]]"
   ]
  },
  {
   "cell_type": "code",
   "execution_count": 94,
   "metadata": {
    "slideshow": {
     "slide_type": "subslide"
    }
   },
   "outputs": [],
   "source": [
    "model = nn.Sequential(\n",
    "nn.Linear(3072, 512),\n",
    "nn.Tanh(),\n",
    "nn.Linear(512,2),\n",
    "nn.Softmax(dim=1))\n",
    "\n",
    "# Softmax ouptus probability value for each class"
   ]
  },
  {
   "cell_type": "code",
   "execution_count": 95,
   "metadata": {
    "slideshow": {
     "slide_type": "subslide"
    }
   },
   "outputs": [
    {
     "data": {
      "image/png": "[encoded data removed]",
      "text/plain": [
       "<Figure size 144x144 with 1 Axes>"
      ]
     },
     "metadata": {
      "needs_background": "light"
     },
     "output_type": "display_data"
    }
   ],
   "source": [
    "img, _ = cifar2[1]\n",
    "\n",
    "plt.figure(figsize=(2,2))\n",
    "plt.imshow(img)\n",
    "plt.show()"
   ]
  },
  {
   "cell_type": "code",
   "execution_count": 101,
   "metadata": {},
   "outputs": [
    {
     "data": {
      "text/plain": [
       "torch.Size([3, 32, 32])"
      ]
     },
     "execution_count": 101,
     "metadata": {},
     "output_type": "execute_result"
    }
   ],
   "source": [
    "to_tensor = transforms.ToTensor()\n",
    "img_t = to_tensor(img)\n",
    "img_t.shape"
   ]
  },
  {
   "cell_type": "code",
   "execution_count": 102,
   "metadata": {
    "slideshow": {
     "slide_type": "slide"
    }
   },
   "outputs": [
    {
     "data": {
      "text/plain": [
       "tensor([[0.4853, 0.5147]], grad_fn=<SoftmaxBackward>)"
      ]
     },
     "execution_count": 102,
     "metadata": {},
     "output_type": "execute_result"
    }
   ],
   "source": [
    "img_sample = img_t.view(-1).unsqueeze(0)\n",
    "out = model(img_sample)\n",
    "out"
   ]
  },
  {
   "cell_type": "code",
   "execution_count": 170,
   "metadata": {
    "slideshow": {
     "slide_type": "subslide"
    }
   },
   "outputs": [
    {
     "name": "stdout",
     "output_type": "stream",
     "text": [
      "Epoch: 0, Loss: 1.311792\n",
      "Epoch: 1, Loss: 1.496687\n",
      "Epoch: 2, Loss: 1.925069\n",
      "Epoch: 3, Loss: 2.282611\n",
      "Epoch: 4, Loss: 2.662120\n",
      "Epoch: 5, Loss: 3.253624\n",
      "Epoch: 6, Loss: 3.380375\n",
      "Epoch: 7, Loss: 3.722273\n",
      "Epoch: 8, Loss: 4.608356\n",
      "Epoch: 9, Loss: 4.933189\n"
     ]
    }
   ],
   "source": [
    "model = nn.Sequential(\n",
    "            nn.Linear(3072, 512),\n",
    "            nn.Tanh(),\n",
    "            nn.Linear(512, 2),\n",
    "            nn.LogSoftmax(dim=1))\n",
    "\n",
    "learning_rate = 1e-2\n",
    "\n",
    "optimizer = optim.SGD(model.parameters(), lr=learning_rate)\n",
    "\n",
    "loss_fn = nn.NLLLoss()\n",
    "\n",
    "n_epochs = 10\n",
    "\n",
    "for epoch in range(n_epochs):\n",
    "    for img, label in cifar2:\n",
    "        img = to_tensor(img)\n",
    "        out = model(img.view(-1).unsqueeze(0))\n",
    "        loss = loss_fn(out, torch.tensor([label]))\n",
    "                \n",
    "        optimizer.zero_grad()\n",
    "        loss.backward()\n",
    "        optimizer.step()\n",
    "\n",
    "    print(\"Epoch: %d, Loss: %f\" % (epoch, float(loss)))"
   ]
  },
  {
   "cell_type": "markdown",
   "metadata": {
    "slideshow": {
     "slide_type": "subslide"
    }
   },
   "source": [
    "If you have a GPU, use it! \n",
    "\n",
    "The last script only runs for 10 iterations and therefore the accuracy in both training and test sets will be drastically impacted... You can try with e.g. 100 epochs."
   ]
  },
  {
   "cell_type": "code",
   "execution_count": 213,
   "metadata": {
    "slideshow": {
     "slide_type": "subslide"
    }
   },
   "outputs": [
    {
     "name": "stdout",
     "output_type": "stream",
     "text": [
      "Accuracy: 0.491700\n"
     ]
    }
   ],
   "source": [
    "correct = 0\n",
    "total = 0\n",
    "\n",
    "with torch.no_grad():\n",
    "    for imgs, labels in cifar2:\n",
    "        imgs = to_tensor(imgs)\n",
    "        outputs = model(imgs.view(-1).unsqueeze(0))\n",
    "        _, predicted = torch.max(outputs, dim=1)\n",
    "        total += 1\n",
    "        correct += int((predicted == labels).sum())\n",
    "        \n",
    "print(\"Accuracy: %f\" % (correct / total))"
   ]
  },
  {
   "cell_type": "code",
   "execution_count": 214,
   "metadata": {
    "slideshow": {
     "slide_type": "subslide"
    }
   },
   "outputs": [
    {
     "name": "stdout",
     "output_type": "stream",
     "text": [
      "Accuracy: 0.492000\n"
     ]
    }
   ],
   "source": [
    "correct = 0\n",
    "total = 0\n",
    "\n",
    "with torch.no_grad():\n",
    "    for imgs, labels in cifar2_val:\n",
    "        imgs = to_tensor(imgs)\n",
    "        outputs = model(imgs.view(-1).unsqueeze(0))\n",
    "        _, predicted = torch.max(outputs, dim=1)\n",
    "        total += 1\n",
    "        correct += int((predicted == labels).sum())\n",
    "        \n",
    "print(\"Accuracy: %f\" % (correct / total))"
   ]
  },
  {
   "cell_type": "code",
   "execution_count": null,
   "metadata": {},
   "outputs": [],
   "source": []
  }
 ],
 "metadata": {
  "celltoolbar": "Slideshow",
  "kernelspec": {
   "display_name": "Python 3",
   "language": "python",
   "name": "python3"
  },
  "language_info": {
   "codemirror_mode": {
    "name": "ipython",
    "version": 3
   },
   "file_extension": ".py",
   "mimetype": "text/x-python",
   "name": "python",
   "nbconvert_exporter": "python",
   "pygments_lexer": "ipython3",
   "version": "3.7.3"
  },
  "latex_envs": {
   "LaTeX_envs_menu_present": true,
   "autoclose": true,
   "autocomplete": true,
   "bibliofile": "biblio.bib",
   "cite_by": "apalike",
   "current_citInitial": 1,
   "eqLabelWithNumbers": true,
   "eqNumInitial": 1,
   "hotkeys": {
    "equation": "Ctrl-E",
    "itemize": "Ctrl-I"
   },
   "labels_anchors": false,
   "latex_user_defs": false,
   "report_style_numbering": false,
   "user_envs_cfg": false
  }
 },
 "nbformat": 4,
 "nbformat_minor": 2
}
