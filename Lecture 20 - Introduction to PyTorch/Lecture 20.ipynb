{
 "cells": [
  {
   "cell_type": "markdown",
   "metadata": {
    "slideshow": {
     "slide_type": "slide"
    }
   },
   "source": [
    "# Lecture 20 - Introduction to PyTorch"
   ]
  },
  {
   "cell_type": "markdown",
   "metadata": {
    "slideshow": {
     "slide_type": "subslide"
    }
   },
   "source": [
    "![Pytorch](data:image/png;base64,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)"
   ]
  },
  {
   "cell_type": "markdown",
   "metadata": {
    "slideshow": {
     "slide_type": "subslide"
    }
   },
   "source": [
    "# What is PyTorch?\n",
    "\n",
    "PyTorch was first released in October 2016.\n",
    "\n",
    "PyTorch is a library for Python that facilitates building deep learning projects. It emphasizes flexibility and allows deep learning models to be expressed in idiomatic Python."
   ]
  },
  {
   "cell_type": "markdown",
   "metadata": {
    "slideshow": {
     "slide_type": "subslide"
    }
   },
   "source": [
    "PyTorch provides a core data structure, the ```Tensor```, a multi-dimensional array that shares many similarities with ```Numpy``` arrays."
   ]
  },
  {
   "cell_type": "markdown",
   "metadata": {
    "slideshow": {
     "slide_type": "slide"
    }
   },
   "source": [
    "## Installing PyTorch\n",
    "\n",
    "PyTorch is available as a Python package and you can either use ```pip```, or ```conda```, to build it or you can build it from source. The recommended approach for this book is to use the Anaconda Python 3 distribution. \n",
    "\n",
    "In the [PyTorch homepage](https://pytorch.org/) scroll to \"quick start locally\" to copy the command you should run using ```conda``` to install PyTorch in your machine. "
   ]
  },
  {
   "cell_type": "markdown",
   "metadata": {
    "slideshow": {
     "slide_type": "slide"
    }
   },
   "source": [
    "## Tensor: the basic unit in PyTorch\n",
    "\n",
    "A **tensor** is a multi-dimensional array.\n",
    "\n",
    "<div><img src=\"figures/tensor.png\", width=\"500\"><!div>"
   ]
  },
  {
   "cell_type": "markdown",
   "metadata": {
    "slideshow": {
     "slide_type": "subslide"
    }
   },
   "source": [
    "```PyTorch``` is not the only library dealing with multi-dimensional arrays. ```NumPy``` is by far the most popular multidimensional array library. In fact, ```PyTorch``` features seamless interoperability with ```NumPy```, which brings with it first class integration with the rest of the scientific libraries in Python, such as ```SciPy```, ```Scikit-learn```, and\n",
    "```Pandas```."
   ]
  },
  {
   "cell_type": "markdown",
   "metadata": {
    "slideshow": {
     "slide_type": "subslide"
    }
   },
   "source": [
    "Compared to ```NumPy``` arrays, ```PyTorch``` tensors have a few superpowers, such as the ability to perform very fast operations on Graphical Processing Units (GPUs), to distribute operations on multiple devices or machines, or to keep track of the graph of computations that created them. These are all important features when implementing a modern deep learning library."
   ]
  },
  {
   "cell_type": "code",
   "execution_count": null,
   "metadata": {
    "slideshow": {
     "slide_type": "subslide"
    }
   },
   "outputs": [],
   "source": [
    "import torch"
   ]
  },
  {
   "cell_type": "code",
   "execution_count": null,
   "metadata": {
    "slideshow": {
     "slide_type": "subslide"
    }
   },
   "outputs": [],
   "source": []
  },
  {
   "cell_type": "code",
   "execution_count": null,
   "metadata": {
    "slideshow": {
     "slide_type": "subslide"
    }
   },
   "outputs": [],
   "source": []
  },
  {
   "cell_type": "code",
   "execution_count": null,
   "metadata": {
    "slideshow": {
     "slide_type": "subslide"
    }
   },
   "outputs": [],
   "source": []
  },
  {
   "cell_type": "code",
   "execution_count": null,
   "metadata": {
    "slideshow": {
     "slide_type": "subslide"
    }
   },
   "outputs": [],
   "source": []
  },
  {
   "cell_type": "markdown",
   "metadata": {
    "slideshow": {
     "slide_type": "subslide"
    }
   },
   "source": [
    "Python lists or tuples of numbers are collections of Python objects that are individually allocated in memory. \n",
    "\n",
    "PyTorch tensors or NumPy arrays on the other hand are viewed over (typically) contiguous memory blocks containing unboxed numeric types rather than Python objects.\n",
    "\n",
    "<div><img src=\"figures/tensorObject.png\", width=\"500\"><!div>"
   ]
  },
  {
   "cell_type": "markdown",
   "metadata": {
    "slideshow": {
     "slide_type": "subslide"
    }
   },
   "source": [
    "For example, let's create samples that form the 2-Dtriangle connecting the vertices (4, 1), (5, 3) and (2, 1)."
   ]
  },
  {
   "cell_type": "code",
   "execution_count": null,
   "metadata": {
    "slideshow": {
     "slide_type": "subslide"
    }
   },
   "outputs": [],
   "source": []
  },
  {
   "cell_type": "code",
   "execution_count": null,
   "metadata": {
    "slideshow": {
     "slide_type": "subslide"
    }
   },
   "outputs": [],
   "source": []
  },
  {
   "cell_type": "code",
   "execution_count": null,
   "metadata": {
    "slideshow": {
     "slide_type": "subslide"
    }
   },
   "outputs": [],
   "source": []
  },
  {
   "cell_type": "markdown",
   "metadata": {
    "slideshow": {
     "slide_type": "slide"
    }
   },
   "source": [
    "### Indexing Tensors"
   ]
  },
  {
   "cell_type": "code",
   "execution_count": null,
   "metadata": {
    "slideshow": {
     "slide_type": "subslide"
    }
   },
   "outputs": [],
   "source": []
  },
  {
   "cell_type": "code",
   "execution_count": null,
   "metadata": {
    "slideshow": {
     "slide_type": "subslide"
    }
   },
   "outputs": [],
   "source": []
  },
  {
   "cell_type": "code",
   "execution_count": null,
   "metadata": {
    "slideshow": {
     "slide_type": "subslide"
    }
   },
   "outputs": [],
   "source": []
  },
  {
   "cell_type": "code",
   "execution_count": null,
   "metadata": {
    "slideshow": {
     "slide_type": "subslide"
    }
   },
   "outputs": [],
   "source": []
  },
  {
   "cell_type": "markdown",
   "metadata": {
    "slideshow": {
     "slide_type": "subslide"
    }
   },
   "source": [
    "Let's consider how we would handle a tensor that is representing an image:"
   ]
  },
  {
   "cell_type": "code",
   "execution_count": null,
   "metadata": {
    "slideshow": {
     "slide_type": "subslide"
    }
   },
   "outputs": [],
   "source": []
  },
  {
   "cell_type": "code",
   "execution_count": null,
   "metadata": {
    "slideshow": {
     "slide_type": "subslide"
    }
   },
   "outputs": [],
   "source": []
  },
  {
   "cell_type": "code",
   "execution_count": null,
   "metadata": {
    "slideshow": {
     "slide_type": "subslide"
    }
   },
   "outputs": [],
   "source": []
  },
  {
   "cell_type": "code",
   "execution_count": null,
   "metadata": {
    "slideshow": {
     "slide_type": "subslide"
    }
   },
   "outputs": [],
   "source": []
  },
  {
   "cell_type": "code",
   "execution_count": null,
   "metadata": {
    "slideshow": {
     "slide_type": "subslide"
    }
   },
   "outputs": [],
   "source": []
  },
  {
   "cell_type": "code",
   "execution_count": null,
   "metadata": {
    "slideshow": {
     "slide_type": "subslide"
    }
   },
   "outputs": [],
   "source": []
  },
  {
   "cell_type": "code",
   "execution_count": null,
   "metadata": {
    "slideshow": {
     "slide_type": "subslide"
    }
   },
   "outputs": [],
   "source": []
  },
  {
   "cell_type": "markdown",
   "metadata": {
    "slideshow": {
     "slide_type": "slide"
    }
   },
   "source": [
    "### Named Tensors\n",
    "\n",
    "PyTorch 1.3 added **named tensors** as an experimental feature. Tensor factory functions such as ```tensor``` take a ```names``` argument. The names should be a sequence of strings."
   ]
  },
  {
   "cell_type": "code",
   "execution_count": null,
   "metadata": {
    "slideshow": {
     "slide_type": "subslide"
    }
   },
   "outputs": [],
   "source": [
    "weights_named = torch.tensor([0.2126, 0.7152, 0.0722], names=['channels'])\n",
    "weights_named"
   ]
  },
  {
   "cell_type": "markdown",
   "metadata": {
    "slideshow": {
     "slide_type": "subslide"
    }
   },
   "source": [
    "When we already have a tensor and want to add names (but not change existing ones), we can call the method ```refine_names``` on it. Similar to indexing, the ellipsis ```…``` allows you to leave out any number of dimensions. With the ```rename``` sibling method you can also overwrite or drop (by passing in None) existing names."
   ]
  },
  {
   "cell_type": "code",
   "execution_count": null,
   "metadata": {
    "slideshow": {
     "slide_type": "subslide"
    }
   },
   "outputs": [],
   "source": [
    "img_named = # finish me\n",
    "batch_named = # finish me\n",
    "\n",
    "print(\"img named:\", img_named.shape, img_named.names)\n",
    "print(\"batch named:\", batch_named.shape, batch_named.names)"
   ]
  },
  {
   "cell_type": "code",
   "execution_count": null,
   "metadata": {
    "slideshow": {
     "slide_type": "subslide"
    }
   },
   "outputs": [],
   "source": [
    "weights_aligned = # finish me\n",
    "\n",
    "weights_aligned.shape, weights_aligned.names"
   ]
  },
  {
   "cell_type": "code",
   "execution_count": null,
   "metadata": {
    "slideshow": {
     "slide_type": "subslide"
    }
   },
   "outputs": [],
   "source": [
    "gray_image = # finish me\n",
    "\n",
    "gray_image.shape, gray_image.names"
   ]
  },
  {
   "cell_type": "markdown",
   "metadata": {
    "slideshow": {
     "slide_type": "slide"
    }
   },
   "source": [
    "### The Tensor API\n",
    "\n",
    "The vast majority of operations on and between tensors are available under the ```torch``` module."
   ]
  },
  {
   "cell_type": "code",
   "execution_count": null,
   "metadata": {
    "slideshow": {
     "slide_type": "subslide"
    }
   },
   "outputs": [],
   "source": []
  },
  {
   "cell_type": "code",
   "execution_count": null,
   "metadata": {
    "slideshow": {
     "slide_type": "subslide"
    }
   },
   "outputs": [],
   "source": []
  },
  {
   "cell_type": "markdown",
   "metadata": {
    "slideshow": {
     "slide_type": "slide"
    }
   },
   "source": [
    "PyTorch documentation is exhaustive and well organized, with the tensor operations divided into groups. Let's check it out: www.pytorch.org/docs "
   ]
  },
  {
   "cell_type": "markdown",
   "metadata": {
    "slideshow": {
     "slide_type": "slide"
    }
   },
   "source": [
    "## Linear Regression using PyTorch\n",
    "\n",
    "**Example:** We just got back from our trip to some obscure location, we brought back a fancy, wall-mounted analog thermometer. It looks great, it's a perfect fit for our living room. Its only flaw: it doesn't khow units. We'll build a dataset of readings and corresponding temperature values in our favorite units, choose a model, adjust its weights iteratively until a measure of the error is low enough and we’ll finally be able to interpret the new readings in units we understand."
   ]
  },
  {
   "cell_type": "code",
   "execution_count": null,
   "metadata": {
    "slideshow": {
     "slide_type": "subslide"
    }
   },
   "outputs": [],
   "source": [
    "t_c = [0.5, 14.0, 15.0, 28.0, 11.0, 8.0, 3.0, -4.0, 6.0, 13.0, 21.0] # Temperature in Celsius\n",
    "t_u = [35.7, 55.9, 58.2, 81.9, 56.3, 48.9, 33.9, 21.8, 48.4, 60.4, 68.4] # Temperature in unknown \n",
    "t_c = torch.tensor(t_c)\n",
    "t_u = torch.tensor(t_u)\n",
    "\n",
    "t_u.shape, t_u"
   ]
  },
  {
   "cell_type": "code",
   "execution_count": null,
   "metadata": {
    "slideshow": {
     "slide_type": "subslide"
    }
   },
   "outputs": [],
   "source": [
    "import matplotlib.pyplot as plt\n",
    "%matplotlib inline\n",
    "\n",
    "plt.scatter(t_u,t_c);\n",
    "plt.xlabel('Temperature in unknown units')\n",
    "plt.ylabel('Temperature in Celsius');"
   ]
  },
  {
   "cell_type": "code",
   "execution_count": null,
   "metadata": {
    "slideshow": {
     "slide_type": "subslide"
    }
   },
   "outputs": [],
   "source": []
  },
  {
   "cell_type": "markdown",
   "metadata": {
    "slideshow": {
     "slide_type": "subslide"
    }
   },
   "source": [
    "Let's consider the output of a neuron unit as a linear function:\n",
    "\n",
    "$$y = wx + w_0$$\n",
    "\n",
    "where $y$ correspond to the temperature in Celsius and $x$ correspond to the temperature in unknown unit."
   ]
  },
  {
   "cell_type": "code",
   "execution_count": null,
   "metadata": {
    "slideshow": {
     "slide_type": "subslide"
    }
   },
   "outputs": [],
   "source": [
    "def model(x, w, b):\n",
    "    return w * x + b"
   ]
  },
  {
   "cell_type": "code",
   "execution_count": null,
   "metadata": {
    "slideshow": {
     "slide_type": "subslide"
    }
   },
   "outputs": [],
   "source": [
    "def loss_fn(prediction, y):\n",
    "    squared_diffs = (prediction - y)**2\n",
    "    return squared_diffs.mean()"
   ]
  },
  {
   "cell_type": "code",
   "execution_count": null,
   "metadata": {
    "slideshow": {
     "slide_type": "subslide"
    }
   },
   "outputs": [],
   "source": []
  },
  {
   "cell_type": "code",
   "execution_count": null,
   "metadata": {
    "slideshow": {
     "slide_type": "subslide"
    }
   },
   "outputs": [],
   "source": []
  },
  {
   "cell_type": "code",
   "execution_count": null,
   "metadata": {
    "slideshow": {
     "slide_type": "subslide"
    }
   },
   "outputs": [],
   "source": [
    "delta = 0.1\n",
    "\n",
    "# definition of gradient\n",
    "loss_rate_of_change_w = \\\n",
    "    (loss_fn(model(t_u, w + delta, b), t_c) - \n",
    "     loss_fn(model(t_u, w - delta, b), t_c)) / (2.0 * delta)"
   ]
  },
  {
   "cell_type": "code",
   "execution_count": null,
   "metadata": {
    "slideshow": {
     "slide_type": "subslide"
    }
   },
   "outputs": [],
   "source": [
    "learning_rate = 1e-2\n",
    "\n",
    "w = w - learning_rate * loss_rate_of_change_w"
   ]
  },
  {
   "cell_type": "code",
   "execution_count": null,
   "metadata": {
    "slideshow": {
     "slide_type": "subslide"
    }
   },
   "outputs": [],
   "source": [
    "loss_rate_of_change_b = \\\n",
    "    (loss_fn(model(t_u, w, b + delta), t_c) - \n",
    "     loss_fn(model(t_u, w, b - delta), t_c)) / (2.0 * delta)\n",
    "\n",
    "b = b - learning_rate * loss_rate_of_change_b"
   ]
  },
  {
   "cell_type": "code",
   "execution_count": null,
   "metadata": {
    "slideshow": {
     "slide_type": "subslide"
    }
   },
   "outputs": [],
   "source": [
    "def dloss_fn(prediction, y):\n",
    "    dsq_diffs = 2 * (prediction - y) / prediction.size(0) \n",
    "    return dsq_diffs"
   ]
  },
  {
   "cell_type": "code",
   "execution_count": null,
   "metadata": {
    "slideshow": {
     "slide_type": "subslide"
    }
   },
   "outputs": [],
   "source": [
    "def dmodel_dw(x, w, b):\n",
    "    return x\n",
    "\n",
    "def dmodel_db(x, w, b):\n",
    "    return 1.0"
   ]
  },
  {
   "cell_type": "markdown",
   "metadata": {
    "slideshow": {
     "slide_type": "subslide"
    }
   },
   "source": [
    "Putting all this together, the function returning the gradient of the loss with respect to $w$ and $b$ is:"
   ]
  },
  {
   "cell_type": "code",
   "execution_count": null,
   "metadata": {
    "slideshow": {
     "slide_type": "subslide"
    }
   },
   "outputs": [],
   "source": [
    "def grad_fn(x, y, prediction, w, b):\n",
    "    dloss_dtp = dloss_fn(prediction, y)\n",
    "    dloss_dw = dloss_dtp * dmodel_dw(x, w, b)\n",
    "    dloss_db = dloss_dtp * dmodel_db(x, w, b)\n",
    "    return torch.stack([dloss_dw.sum(), dloss_db.sum()])"
   ]
  },
  {
   "cell_type": "code",
   "execution_count": null,
   "metadata": {
    "slideshow": {
     "slide_type": "subslide"
    }
   },
   "outputs": [],
   "source": [
    "def training_loop(n_epochs, learning_rate, params, x, y, print_params=True):\n",
    "    for epoch in range(1, n_epochs + 1):\n",
    "        w, b = params\n",
    "\n",
    "        prediction = model(x, w, b)  # Forward pass\n",
    "        loss = loss_fn(prediction, y)\n",
    "        grad = grad_fn(x, y, prediction, w, b)  # Backward pass\n",
    "\n",
    "        params = params - learning_rate * grad\n",
    "\n",
    "        if epoch in {1, 2, 3, 10, 11, 99, 100, 4000, 5000}: \n",
    "            print('Epoch %d, Loss %f' % (epoch, float(loss)))\n",
    "            if print_params:\n",
    "                print('    Params:', params)\n",
    "                print('    Grad:  ', grad)\n",
    "        if epoch in {4, 12, 101}:\n",
    "            print('...')\n",
    "\n",
    "        if not torch.isfinite(loss).all():\n",
    "            break \n",
    "            \n",
    "    return params"
   ]
  },
  {
   "cell_type": "code",
   "execution_count": null,
   "metadata": {
    "slideshow": {
     "slide_type": "subslide"
    }
   },
   "outputs": [],
   "source": []
  },
  {
   "cell_type": "code",
   "execution_count": null,
   "metadata": {},
   "outputs": [],
   "source": []
  },
  {
   "cell_type": "code",
   "execution_count": null,
   "metadata": {},
   "outputs": [],
   "source": []
  },
  {
   "cell_type": "code",
   "execution_count": null,
   "metadata": {},
   "outputs": [],
   "source": []
  },
  {
   "cell_type": "code",
   "execution_count": null,
   "metadata": {
    "slideshow": {
     "slide_type": "subslide"
    }
   },
   "outputs": [],
   "source": [
    "prediction = # finish me\n",
    "\n",
    "plt.plot(t_u.numpy(), prediction.detach().numpy())\n",
    "plt.plot(t_u.numpy(), t_c.numpy(), 'o');"
   ]
  },
  {
   "cell_type": "markdown",
   "metadata": {
    "slideshow": {
     "slide_type": "subslide"
    }
   },
   "source": [
    "## PyTorch's Autograd\n",
    "\n",
    "Depending on the cost function we use, we will need to compute the updates by hand... That's not good!\n",
    "\n",
    "This is when PyTorch tensors come to the rescue, with a PyTorch component called autograd. Given a forward expression, no\n",
    "matter how nested, PyTorch will provide the gradient of that expression with respect to its input parameters automatically."
   ]
  },
  {
   "cell_type": "code",
   "execution_count": null,
   "metadata": {
    "slideshow": {
     "slide_type": "subslide"
    }
   },
   "outputs": [],
   "source": [
    "def training_loop(n_epochs, learning_rate, params, x, y):\n",
    "    for epoch in range(1, n_epochs + 1):\n",
    "        if params.grad is not None:\n",
    "            params.grad.zero_()\n",
    "            \n",
    "        prediction = model(x, *params)\n",
    "        loss = loss_fn(prediction, y)\n",
    "        loss.backward()\n",
    "        \n",
    "        with torch.no_grad():\n",
    "            params -= learning_rate * params.grad\n",
    "        \n",
    "        if epoch % 500 == 0:\n",
    "            print('Epoch %d, Loss %f' % (epoch, float(loss)))\n",
    "    return params"
   ]
  },
  {
   "cell_type": "code",
   "execution_count": null,
   "metadata": {
    "slideshow": {
     "slide_type": "subslide"
    }
   },
   "outputs": [],
   "source": []
  },
  {
   "cell_type": "code",
   "execution_count": null,
   "metadata": {
    "slideshow": {
     "slide_type": "subslide"
    }
   },
   "outputs": [],
   "source": [
    "import torch.optim as optim\n",
    "\n",
    "# finish me"
   ]
  },
  {
   "cell_type": "markdown",
   "metadata": {
    "slideshow": {
     "slide_type": "slide"
    }
   },
   "source": [
    "## Using a Neural Network\n",
    "\n",
    "PyTorch has a whole submodule dedicated to neural networks, called ```torch.nn```. It contains the building blocks needed to create all sorts of neural network architectures. Those building blocks are called modules in PyTorch parlance (these building blocks are often referred to as layers in other frameworks)."
   ]
  },
  {
   "cell_type": "code",
   "execution_count": null,
   "metadata": {
    "slideshow": {
     "slide_type": "subslide"
    }
   },
   "outputs": [],
   "source": [
    "n_samples = t_un.shape[0]\n",
    "n_val = int(0.2 * n_samples)\n",
    "\n",
    "shuffled_indices = torch.randperm(n_samples)\n",
    "\n",
    "train_indices = shuffled_indices[:-n_val]\n",
    "val_indices = shuffled_indices[-n_val:]\n",
    "\n",
    "train_indices, val_indices"
   ]
  },
  {
   "cell_type": "code",
   "execution_count": null,
   "metadata": {
    "slideshow": {
     "slide_type": "subslide"
    }
   },
   "outputs": [],
   "source": [
    "t_un_train = t_un[train_indices]\n",
    "t_c_train = t_c[train_indices]\n",
    "\n",
    "t_un_val = t_un[val_indices]\n",
    "t_c_val = t_c[val_indices]"
   ]
  },
  {
   "cell_type": "code",
   "execution_count": null,
   "metadata": {
    "slideshow": {
     "slide_type": "subslide"
    }
   },
   "outputs": [],
   "source": [
    "import torch.nn as nn\n",
    "\n",
    "# finish me"
   ]
  },
  {
   "cell_type": "code",
   "execution_count": null,
   "metadata": {
    "slideshow": {
     "slide_type": "subslide"
    }
   },
   "outputs": [],
   "source": []
  },
  {
   "cell_type": "code",
   "execution_count": null,
   "metadata": {
    "slideshow": {
     "slide_type": "subslide"
    }
   },
   "outputs": [],
   "source": []
  },
  {
   "cell_type": "code",
   "execution_count": null,
   "metadata": {
    "slideshow": {
     "slide_type": "subslide"
    }
   },
   "outputs": [],
   "source": []
  },
  {
   "cell_type": "code",
   "execution_count": null,
   "metadata": {
    "slideshow": {
     "slide_type": "subslide"
    }
   },
   "outputs": [],
   "source": []
  },
  {
   "cell_type": "code",
   "execution_count": null,
   "metadata": {
    "slideshow": {
     "slide_type": "subslide"
    }
   },
   "outputs": [],
   "source": []
  },
  {
   "cell_type": "code",
   "execution_count": null,
   "metadata": {
    "slideshow": {
     "slide_type": "subslide"
    }
   },
   "outputs": [],
   "source": []
  },
  {
   "cell_type": "code",
   "execution_count": null,
   "metadata": {
    "slideshow": {
     "slide_type": "subslide"
    }
   },
   "outputs": [],
   "source": [
    "def training_loop(n_epochs, optimizer, model, loss_fn, x_train, x_val, y_train, y_val):\n",
    "    for epoch in range(1, n_epochs + 1):\n",
    "        pred_train = model(x_train)\n",
    "        loss_train = loss_fn(pred_train, y_train)\n",
    "        \n",
    "        pred_val = model(x_val)\n",
    "        loss_val = loss_fn(pred_val, y_val)\n",
    "        \n",
    "        optimizer.zero_grad()\n",
    "        loss_train.backward()\n",
    "        optimizer.step()\n",
    "        \n",
    "        if epoch == 1 or epoch % 1000 == 0:\n",
    "            print('Epoch {}, Training loss {}, Validation loss {}'.format(\n",
    "                epoch, float(loss_train), float(loss_val)))"
   ]
  },
  {
   "cell_type": "code",
   "execution_count": null,
   "metadata": {
    "slideshow": {
     "slide_type": "subslide"
    }
   },
   "outputs": [],
   "source": [
    "linear_model = nn.Linear(1, 1)\n",
    "optimizer = optim.SGD(linear_model.parameters(), lr=1e-2)\n",
    "\n",
    "# finish me\n",
    "\n",
    "print()\n",
    "print(linear_model.weight)\n",
    "print(linear_model.bias)"
   ]
  },
  {
   "cell_type": "code",
   "execution_count": null,
   "metadata": {
    "slideshow": {
     "slide_type": "subslide"
    }
   },
   "outputs": [],
   "source": [
    "optimizer = optim.SGD(seq_model.parameters(), lr=1e-3)\n",
    "\n",
    "training_loop(\n",
    "n_epochs = 5000,\n",
    "optimizer = optimizer,\n",
    "model = seq_model,\n",
    "loss_fn = nn.MSELoss(),\n",
    "x_train = t_un_train,\n",
    "x_val = t_un_val,\n",
    "y_train = t_c_train,\n",
    "y_val = t_c_val)\n",
    "\n",
    "print('output', seq_model(t_un_val))\n",
    "print('label', t_c_val)\n",
    "print('hidden', seq_model.hidden_linear.weight.grad)"
   ]
  },
  {
   "cell_type": "code",
   "execution_count": null,
   "metadata": {
    "scrolled": true,
    "slideshow": {
     "slide_type": "subslide"
    }
   },
   "outputs": [],
   "source": [
    "t_range = torch.arange(20., 90.).unsqueeze(1)\n",
    "\n",
    "plt.xlabel(\"Fahrenheit\")\n",
    "plt.ylabel(\"Celsius\")\n",
    "plt.plot(t_u.numpy(), t_c.numpy(), 'o')\n",
    "plt.plot(t_range.numpy(), seq_model(0.1 * t_range).detach().numpy(), 'c-')\n",
    "plt.plot(t_u.numpy(), seq_model(0.1 * t_u).detach().numpy(), 'kx');"
   ]
  },
  {
   "cell_type": "markdown",
   "metadata": {
    "slideshow": {
     "slide_type": "slide"
    }
   },
   "source": [
    "## Subclassing nn.Module\n",
    "\n",
    "Adding model complexity..."
   ]
  },
  {
   "cell_type": "code",
   "execution_count": 2,
   "metadata": {
    "scrolled": true,
    "slideshow": {
     "slide_type": "subslide"
    }
   },
   "outputs": [],
   "source": [
    "# finish me"
   ]
  },
  {
   "cell_type": "code",
   "execution_count": null,
   "metadata": {
    "slideshow": {
     "slide_type": "subslide"
    }
   },
   "outputs": [],
   "source": [
    "for name, param in seq_model.named_parameters():\n",
    "    print(name, param.shape)"
   ]
  },
  {
   "cell_type": "code",
   "execution_count": null,
   "metadata": {
    "slideshow": {
     "slide_type": "subslide"
    }
   },
   "outputs": [],
   "source": [
    "from collections import OrderedDict\n",
    "\n",
    "seq_model = nn.Sequential(OrderedDict([\n",
    "    ('hidden_linear', nn.Linear(1, 8)),\n",
    "    ('hidden_activation', nn.Tanh()),\n",
    "    ('output_linear', nn.Linear(8, 1))\n",
    "]))\n",
    "\n",
    "seq_model"
   ]
  },
  {
   "cell_type": "markdown",
   "metadata": {
    "slideshow": {
     "slide_type": "slide"
    }
   },
   "source": [
    "## Example: distinguishing birds from airplanes using CIFAR-10 data set\n",
    "\n",
    "CIFAR-10 consists of 60000 tiny 32x32 color (RGB) images, labeled with an integer corresponding to 10 classes, namely airplane (0), automobile (1), bird (2), cat (3), deer (4), dog (5), frog (6), horse (7), ship (8), truck (9)."
   ]
  },
  {
   "cell_type": "code",
   "execution_count": null,
   "metadata": {
    "slideshow": {
     "slide_type": "subslide"
    }
   },
   "outputs": [],
   "source": [
    "from torchvision import datasets\n",
    "data_path = '../data-unversioned/p1ch6/'\n",
    "\n",
    "cifar10 = datasets.CIFAR10(data_path, train=True, download=True)\n",
    "cifar10_val = datasets.CIFAR10(data_path, train=False, download=True)"
   ]
  },
  {
   "cell_type": "code",
   "execution_count": 94,
   "metadata": {
    "slideshow": {
     "slide_type": "subslide"
    }
   },
   "outputs": [
    {
     "data": {
      "image/png": "[encoded data removed]",
      "text/plain": [
       "<Figure size 144x144 with 1 Axes>"
      ]
     },
     "metadata": {
      "needs_background": "light"
     },
     "output_type": "display_data"
    }
   ],
   "source": [
    "img, label = cifar10[500]\n",
    "\n",
    "plt.figure(figsize=(2,2))\n",
    "plt.imshow(img)\n",
    "plt.title(label)\n",
    "plt.show()"
   ]
  },
  {
   "cell_type": "code",
   "execution_count": null,
   "metadata": {
    "slideshow": {
     "slide_type": "subslide"
    }
   },
   "outputs": [],
   "source": [
    "from torchvision import transforms\n",
    "\n",
    "# finish me"
   ]
  },
  {
   "cell_type": "code",
   "execution_count": null,
   "metadata": {
    "slideshow": {
     "slide_type": "subslide"
    }
   },
   "outputs": [],
   "source": []
  },
  {
   "cell_type": "code",
   "execution_count": null,
   "metadata": {
    "slideshow": {
     "slide_type": "subslide"
    }
   },
   "outputs": [],
   "source": [
    "tensor_cifar10 = datasets.CIFAR10(data_path, train=True, download=False,\n",
    "                                  transform=transforms.ToTensor())"
   ]
  },
  {
   "cell_type": "code",
   "execution_count": null,
   "metadata": {
    "slideshow": {
     "slide_type": "subslide"
    }
   },
   "outputs": [],
   "source": []
  },
  {
   "cell_type": "code",
   "execution_count": null,
   "metadata": {
    "slideshow": {
     "slide_type": "subslide"
    }
   },
   "outputs": [],
   "source": [
    "imgs.view(3, -1).mean(dim=1)"
   ]
  },
  {
   "cell_type": "code",
   "execution_count": null,
   "metadata": {
    "slideshow": {
     "slide_type": "subslide"
    }
   },
   "outputs": [],
   "source": [
    "imgs.view(3, -1).std(dim=1)"
   ]
  },
  {
   "cell_type": "code",
   "execution_count": null,
   "metadata": {
    "slideshow": {
     "slide_type": "subslide"
    }
   },
   "outputs": [],
   "source": [
    "transformed_cifar10 = datasets.CIFAR10(data_path, train=True, download=False,\n",
    "                                       transform=transforms.Compose([\n",
    "                                           transforms.ToTensor(),\n",
    "                                           transforms.Normalize((0.4915, 0.4823, 0.4468),\n",
    "                                                                (0.2470, 0.2435, 0.2616))\n",
    "                                       ]))"
   ]
  },
  {
   "cell_type": "markdown",
   "metadata": {
    "slideshow": {
     "slide_type": "subslide"
    }
   },
   "source": [
    "Distinguishing birds from airplanes..."
   ]
  },
  {
   "cell_type": "code",
   "execution_count": null,
   "metadata": {
    "slideshow": {
     "slide_type": "subslide"
    }
   },
   "outputs": [],
   "source": [
    "label_map = {0: 0, 2: 1}\n",
    "class_names = ['airplane', 'bird']\n",
    "cifar2 = [(img, label_map[label]) for img, label in cifar10 if label in [0, 2]]\n",
    "cifar2_val = [(img, label_map[label]) for img, label in cifar10_val if label in [0, 2]]"
   ]
  },
  {
   "cell_type": "code",
   "execution_count": null,
   "metadata": {
    "slideshow": {
     "slide_type": "subslide"
    }
   },
   "outputs": [],
   "source": []
  },
  {
   "cell_type": "code",
   "execution_count": null,
   "metadata": {
    "slideshow": {
     "slide_type": "subslide"
    }
   },
   "outputs": [],
   "source": [
    "img, _ = cifar2[1]\n",
    "\n",
    "plt.figure(figsize=(2,2))\n",
    "plt.imshow(img)\n",
    "plt.show()"
   ]
  },
  {
   "cell_type": "code",
   "execution_count": null,
   "metadata": {
    "slideshow": {
     "slide_type": "slide"
    }
   },
   "outputs": [],
   "source": [
    "img_sample = img.view(-1).unsqueeze(0)\n",
    "out = # finishe me\n",
    "out"
   ]
  },
  {
   "cell_type": "code",
   "execution_count": 170,
   "metadata": {
    "slideshow": {
     "slide_type": "subslide"
    }
   },
   "outputs": [
    {
     "name": "stdout",
     "output_type": "stream",
     "text": [
      "Epoch: 0, Loss: 1.311792\n",
      "Epoch: 1, Loss: 1.496687\n",
      "Epoch: 2, Loss: 1.925069\n",
      "Epoch: 3, Loss: 2.282611\n",
      "Epoch: 4, Loss: 2.662120\n",
      "Epoch: 5, Loss: 3.253624\n",
      "Epoch: 6, Loss: 3.380375\n",
      "Epoch: 7, Loss: 3.722273\n",
      "Epoch: 8, Loss: 4.608356\n",
      "Epoch: 9, Loss: 4.933189\n"
     ]
    }
   ],
   "source": [
    "model = nn.Sequential(\n",
    "            nn.Linear(3072, 512),\n",
    "            nn.Tanh(),\n",
    "            nn.Linear(512, 2),\n",
    "            nn.LogSoftmax(dim=1))\n",
    "\n",
    "learning_rate = 1e-2\n",
    "\n",
    "optimizer = optim.SGD(model.parameters(), lr=learning_rate)\n",
    "\n",
    "loss_fn = nn.NLLLoss()\n",
    "\n",
    "n_epochs = 10\n",
    "\n",
    "for epoch in range(n_epochs):\n",
    "    for img, label in cifar2:\n",
    "        img = to_tensor(img)\n",
    "        out = model(img.view(-1).unsqueeze(0))\n",
    "        loss = loss_fn(out, torch.tensor([label]))\n",
    "                \n",
    "        optimizer.zero_grad()\n",
    "        loss.backward()\n",
    "        optimizer.step()\n",
    "\n",
    "    print(\"Epoch: %d, Loss: %f\" % (epoch, float(loss)))"
   ]
  },
  {
   "cell_type": "markdown",
   "metadata": {
    "slideshow": {
     "slide_type": "subslide"
    }
   },
   "source": [
    "If you have a GPU, use it! \n",
    "\n",
    "The last script only runs for 10 iterations and therefore the accuracy in both training and test sets will be drastically impacted... You can try with e.g. 100 epochs."
   ]
  },
  {
   "cell_type": "code",
   "execution_count": 213,
   "metadata": {
    "slideshow": {
     "slide_type": "subslide"
    }
   },
   "outputs": [
    {
     "name": "stdout",
     "output_type": "stream",
     "text": [
      "Accuracy: 0.491700\n"
     ]
    }
   ],
   "source": [
    "correct = 0\n",
    "total = 0\n",
    "\n",
    "with torch.no_grad():\n",
    "    for imgs, labels in cifar2:\n",
    "        imgs = to_tensor(imgs)\n",
    "        outputs = model(imgs.view(-1).unsqueeze(0))\n",
    "        _, predicted = torch.max(outputs, dim=1)\n",
    "        total += 1\n",
    "        correct += int((predicted == labels).sum())\n",
    "        \n",
    "print(\"Accuracy: %f\" % (correct / total))"
   ]
  },
  {
   "cell_type": "code",
   "execution_count": 214,
   "metadata": {
    "slideshow": {
     "slide_type": "subslide"
    }
   },
   "outputs": [
    {
     "name": "stdout",
     "output_type": "stream",
     "text": [
      "Accuracy: 0.492000\n"
     ]
    }
   ],
   "source": [
    "correct = 0\n",
    "total = 0\n",
    "\n",
    "with torch.no_grad():\n",
    "    for imgs, labels in cifar2_val:\n",
    "        imgs = to_tensor(imgs)\n",
    "        outputs = model(imgs.view(-1).unsqueeze(0))\n",
    "        _, predicted = torch.max(outputs, dim=1)\n",
    "        total += 1\n",
    "        correct += int((predicted == labels).sum())\n",
    "        \n",
    "print(\"Accuracy: %f\" % (correct / total))"
   ]
  },
  {
   "cell_type": "code",
   "execution_count": null,
   "metadata": {},
   "outputs": [],
   "source": []
  }
 ],
 "metadata": {
  "celltoolbar": "Slideshow",
  "kernelspec": {
   "display_name": "Python 3",
   "language": "python",
   "name": "python3"
  },
  "language_info": {
   "codemirror_mode": {
    "name": "ipython",
    "version": 3
   },
   "file_extension": ".py",
   "mimetype": "text/x-python",
   "name": "python",
   "nbconvert_exporter": "python",
   "pygments_lexer": "ipython3",
   "version": "3.7.3"
  },
  "latex_envs": {
   "LaTeX_envs_menu_present": true,
   "autoclose": true,
   "autocomplete": true,
   "bibliofile": "biblio.bib",
   "cite_by": "apalike",
   "current_citInitial": 1,
   "eqLabelWithNumbers": true,
   "eqNumInitial": 1,
   "hotkeys": {
    "equation": "Ctrl-E",
    "itemize": "Ctrl-I"
   },
   "labels_anchors": false,
   "latex_user_defs": false,
   "report_style_numbering": false,
   "user_envs_cfg": false
  }
 },
 "nbformat": 4,
 "nbformat_minor": 2
}
