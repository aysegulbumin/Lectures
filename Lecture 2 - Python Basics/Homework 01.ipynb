{
 "cells": [
  {
   "cell_type": "markdown",
   "metadata": {},
   "source": [
    "# Homework 1\n",
    "\n",
    "**Due: Monday, January 13, 11:59 PM**\n",
    "\n",
    "## Grading Rubric\n",
    "\n",
    "1. **Jupyter Notebook (15 pts):** You have created your Jupyter Notebook using the provided instructions and included a definition of Machine Learning.\n",
    "\n",
    "2. **Numpy and Maplotlib (20 pts):** You've successfully imported libraries and generated the plots.\n",
    "\n",
    "3. **Model Selection (10 pts):** You have added a paragraph discussion about model selection.\n",
    "\n",
    "4. **Notebook PDF (5 pts):** You have included a PDF of your Notebook solutions.\n",
    "\n",
    "The final score will be multiplied by 2.\n",
    "\n",
    "**Total: 100 pts**"
   ]
  },
  {
   "cell_type": "markdown",
   "metadata": {},
   "source": [
    "# Python 3+, Jupyter Notebook and Libraries\n",
    "\n",
    "In this assignment you will practice coding in Python 3+ using Jupyter Notebook and getting started on executing functions from different libraries.\n",
    "\n",
    "**Objectives**\n",
    "\n",
    "By completing this assignment you will practice and master the following skills:\n",
    "\n",
    "* Formatting Jupyter Notebook cells\n",
    "* Import libraries \n",
    "* Access function docstring to determine what parameters are needed to execute a particular function\n",
    "* Create a Notebook PDF\n",
    "\n",
    "**Create your Repo**\n",
    "\n",
    "You can create the repo for this assignment by visiting the following link: https://classroom.github.com/a/5HNp2p7Z"
   ]
  },
  {
   "cell_type": "markdown",
   "metadata": {},
   "source": [
    "## Step 1: Jupyter Notebook\n",
    "\n",
    "Create a new Juypter Notebook file with a Python 3 kernel\n",
    "\n",
    "Name the new file \"Homework01_[FirstName LastName]\"\n",
    "\n",
    "Create a cell with a 1st-level heading with the text \"Homework 01\"\n",
    "\n",
    "In a markdown cell, using your own words, describe what is Machine Learning."
   ]
  },
  {
   "cell_type": "markdown",
   "metadata": {},
   "source": [
    "## Step 2: Using Numpy and Maplotlib\n",
    "\n",
    "Let's get started with importing libraries and using functions.\n",
    "\n",
    "To start, import the libraries `numpy` and `matplotlib`.\n",
    "\n",
    "* Remember that you may need to include any necessary magics to make the images appear in the notebook; you should do these things as necessary.\n",
    "\n",
    "Create an `ndarray` called $x$ with evenly spaced numbers over the interval $[0,10]$ using the function `linspace`.\n",
    "* Use the docstring information to determine what parameters you need to execute the function.\n",
    "\n",
    "Generate a plot of a sinewave function, $sin(x)$.\n",
    "\n",
    "Reproduce the same plot using the library `seaborn`. \n",
    "* The book section [\"Seaborn Versus Matplotlib\"](https://jakevdp.github.io/PythonDataScienceHandbook/04.14-visualization-with-seaborn.html) is a great resource.\n",
    "\n",
    "Generate overlaid plots of a sinewave $sin(x)$ and a cosine wave $cos(x)$. Include a legend to your plot."
   ]
  },
  {
   "cell_type": "markdown",
   "metadata": {},
   "source": [
    "## Step 3: Using Library Modules\n",
    "\n",
    "Import the module `random` from the library `numpy` as `npr`.\n",
    "\n",
    "Using the function `random_sample` from `npr`, create the random `ndarray` $x$ and $z$ both of size 100.\n",
    "\n",
    "Create another variable $y$ that is computed as:\n",
    "\n",
    "$$y = 2x - 10 + z$$\n",
    "\n",
    "Plot a `scatter` plot of $x$ and $y$. Add an x-axis label \"x\" and y-axis label \"y\"."
   ]
  },
  {
   "cell_type": "markdown",
   "metadata": {},
   "source": [
    "## Step 4: Model Selection\n",
    "\n",
    "Recall our silhouette example from lecture 1. For the data you just plotted, suppose each data point is describing a silhouette picture using two features: $x$, the presence of a cane, and $y$ the presence of suitcase. What *model* do you think would be appropriate to use in this data if your goal is to predict the age of the person in the silhouette?\n",
    "* In a markdown cell, provide a 1 paragraph discussion."
   ]
  },
  {
   "cell_type": "markdown",
   "metadata": {},
   "source": [
    "## Step 5: Submit your Solution\n",
    "\n",
    "Along with your Jupyter Notebook answers, create a PDF of the notebook with your solutions. When you are all done, the best way to do this is:\n",
    "1. Restart and rerun your notebook using the \"Kernel->Restart & Run All\" menu item. (Make sure there are no errors.)\n",
    "2. Save your notebook by clicking on the Save icon or using the \"File->Save and Checkpoint\" menu item.\n",
    "3. Generate a static HTML version of your notebook by using the \"File->Print Preview\" menu item. The static HTML version should open in a new tab or window.\n",
    "4. Generate a PDF of that version. You can follow this guide: [How to Save a Webpage as a PDF](https://www.digitaltrends.com/computing/how-to-save-a-webpage-as-a-pdf/)\n",
    "\n",
    "As always, `add` and `commit` the final version of your work, and `push` your code to your GitHub repository. \n",
    "* Submit the **URL** of your GitHub Repository as your assignment submission on Canvas."
   ]
  },
  {
   "cell_type": "code",
   "execution_count": null,
   "metadata": {},
   "outputs": [],
   "source": []
  }
 ],
 "metadata": {
  "kernelspec": {
   "display_name": "Python 3",
   "language": "python",
   "name": "python3"
  },
  "language_info": {
   "codemirror_mode": {
    "name": "ipython",
    "version": 3
   },
   "file_extension": ".py",
   "mimetype": "text/x-python",
   "name": "python",
   "nbconvert_exporter": "python",
   "pygments_lexer": "ipython3",
   "version": "3.7.3"
  },
  "latex_envs": {
   "LaTeX_envs_menu_present": true,
   "autoclose": true,
   "autocomplete": true,
   "bibliofile": "biblio.bib",
   "cite_by": "apalike",
   "current_citInitial": 1,
   "eqLabelWithNumbers": true,
   "eqNumInitial": 1,
   "hotkeys": {
    "equation": "Ctrl-E",
    "itemize": "Ctrl-I"
   },
   "labels_anchors": false,
   "latex_user_defs": false,
   "report_style_numbering": false,
   "user_envs_cfg": false
  }
 },
 "nbformat": 4,
 "nbformat_minor": 2
}
